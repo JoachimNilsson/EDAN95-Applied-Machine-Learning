{
 "cells": [
  {
   "cell_type": "code",
   "execution_count": 1,
   "metadata": {},
   "outputs": [],
   "source": [
    "from sklearn.model_selection import train_test_split\n",
    "from sklearn import datasets, svm, metrics\n",
    "import numpy as np"
   ]
  },
  {
   "cell_type": "code",
   "execution_count": 2,
   "metadata": {},
   "outputs": [],
   "source": [
    "digits = datasets.load_digits()\n",
    "train_features, test_features, train_labels, test_labels = train_test_split(digits.data, digits.target, test_size=0.3, random_state=0)\n",
    "train_features = train_features/16.0"
   ]
  },
  {
   "cell_type": "code",
   "execution_count": 3,
   "metadata": {},
   "outputs": [],
   "source": [
    "from EM import ExpectationMaximizationGNB\n",
    "emGNB = ExpectationMaximizationGNB(10)\n",
    "emGNB.fit(train_features)\n",
    "em_pred = emGNB.predict(train_features)"
   ]
  },
  {
   "cell_type": "code",
   "execution_count": 4,
   "metadata": {},
   "outputs": [],
   "source": [
    "from sklearn.cluster import KMeans\n",
    "kmeans = KMeans(n_clusters=10)\n",
    "kmeans.fit(train_features)\n",
    "kmeans_pred = kmeans.predict(train_features)"
   ]
  },
  {
   "cell_type": "code",
   "execution_count": 5,
   "metadata": {},
   "outputs": [
    {
     "name": "stdout",
     "output_type": "stream",
     "text": [
      "K-Means: Completeness: 0.769656685533696\n",
      "K-Means: homogeneity_score: 0.7516562142752589\n",
      "K-Means: adjusted_mutual_info_score: 0.7570406001474415\n"
     ]
    }
   ],
   "source": [
    "from sklearn.metrics import completeness_score,homogeneity_score,adjusted_mutual_info_score\n",
    "print(\"K-Means: Completeness: {}\".format(completeness_score(train_labels, kmeans_pred)))\n",
    "print(\"K-Means: homogeneity_score: {}\".format(homogeneity_score(train_labels, kmeans_pred)))\n",
    "print(\"K-Means: adjusted_mutual_info_score: {}\".format(adjusted_mutual_info_score(train_labels, kmeans_pred)))"
   ]
  },
  {
   "cell_type": "code",
   "execution_count": 6,
   "metadata": {},
   "outputs": [
    {
     "name": "stdout",
     "output_type": "stream",
     "text": [
      "EM: Completeness: 0.7578286999747158\n",
      "EM: homogeneity_score: 0.7254461544350302\n",
      "EM: adjusted_mutual_info_score: 0.737443567705267\n"
     ]
    }
   ],
   "source": [
    "print(\"EM: Completeness: {}\".format(completeness_score(train_labels, em_pred)))\n",
    "print(\"EM: homogeneity_score: {}\".format(homogeneity_score(train_labels, em_pred)))\n",
    "print(\"EM: adjusted_mutual_info_score: {}\".format(adjusted_mutual_info_score(train_labels, em_pred)))"
   ]
  },
  {
   "cell_type": "code",
   "execution_count": 7,
   "metadata": {},
   "outputs": [
    {
     "name": "stdout",
     "output_type": "stream",
     "text": [
      "EM-K-Means: Completeness: 0.8518563054235612\n",
      "EM-K-Means: homogeneity_score: 0.8349842248794619\n",
      "EM-K-Means: adjusted_mutual_info_score: 0.8409733906476065\n"
     ]
    }
   ],
   "source": [
    "print(\"EM-K-Means: Completeness: {}\".format(completeness_score(kmeans_pred, em_pred)))\n",
    "print(\"EM-K-Means: homogeneity_score: {}\".format(homogeneity_score(kmeans_pred, em_pred)))\n",
    "print(\"EM-K-Means: adjusted_mutual_info_score: {}\".format(adjusted_mutual_info_score(kmeans_pred, em_pred)))"
   ]
  },
  {
   "cell_type": "code",
   "execution_count": null,
   "metadata": {},
   "outputs": [],
   "source": []
  }
 ],
 "metadata": {
  "kernelspec": {
   "display_name": "Python 3",
   "language": "python",
   "name": "python3"
  },
  "language_info": {
   "codemirror_mode": {
    "name": "ipython",
    "version": 3
   },
   "file_extension": ".py",
   "mimetype": "text/x-python",
   "name": "python",
   "nbconvert_exporter": "python",
   "pygments_lexer": "ipython3",
   "version": "3.7.4"
  }
 },
 "nbformat": 4,
 "nbformat_minor": 4
}
