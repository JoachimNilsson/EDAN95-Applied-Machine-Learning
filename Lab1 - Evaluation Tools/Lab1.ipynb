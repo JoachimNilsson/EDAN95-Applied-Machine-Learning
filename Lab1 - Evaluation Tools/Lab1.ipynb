{
 "cells": [
  {
   "cell_type": "code",
   "execution_count": 2,
   "metadata": {},
   "outputs": [],
   "source": [
    "from sklearn import datasets, svm, metrics\n",
    "import matplotlib.pyplot as plt\n",
    "import numpy as np"
   ]
  },
  {
   "cell_type": "code",
   "execution_count": 3,
   "metadata": {},
   "outputs": [
    {
     "name": "stdout",
     "output_type": "stream",
     "text": [
      "16.0\n",
      "[ 0.  0.  5. 13.  9.  1.  0.  0.  0.  0. 13. 15. 10. 15.  5.  0.  0.  3.\n",
      " 15.  2.  0. 11.  8.  0.  0.  4. 12.  0.  0.  8.  8.  0.  0.  5.  8.  0.\n",
      "  0.  9.  8.  0.  0.  4. 11.  0.  1. 12.  7.  0.  0.  2. 14.  5. 10. 12.\n",
      "  0.  0.  0.  0.  6. 13. 10.  0.  0.  0.]\n",
      "[[ 0.  0.  5. 13.  9.  1.  0.  0.]\n",
      " [ 0.  0. 13. 15. 10. 15.  5.  0.]\n",
      " [ 0.  3. 15.  2.  0. 11.  8.  0.]\n",
      " [ 0.  4. 12.  0.  0.  8.  8.  0.]\n",
      " [ 0.  5.  8.  0.  0.  9.  8.  0.]\n",
      " [ 0.  4. 11.  0.  1. 12.  7.  0.]\n",
      " [ 0.  2. 14.  5. 10. 12.  0.  0.]\n",
      " [ 0.  0.  6. 13. 10.  0.  0.  0.]]\n"
     ]
    }
   ],
   "source": [
    "digits = datasets.load_digits()\n",
    "print(np.amax(digits.data))\n",
    "print(digits.data[0])\n",
    "print(digits.images[0])"
   ]
  },
  {
   "cell_type": "code",
   "execution_count": 4,
   "metadata": {},
   "outputs": [
    {
     "data": {
      "image/png": "[encoded data removed]",
      "text/plain": [
       "<Figure size 432x288 with 10 Axes>"
      ]
     },
     "metadata": {
      "needs_background": "light"
     },
     "output_type": "display_data"
    }
   ],
   "source": [
    "images_and_labels = list(zip(digits.images, digits.target))\n",
    "for index, (image, label) in enumerate(images_and_labels[:10]):\n",
    "    plt.subplot(2, 5, index + 1)\n",
    "    plt.axis('off')\n",
    "    plt.imshow(image, cmap=plt.cm.gray_r, interpolation='nearest')\n",
    "    plt.title('Training: %i' % label)"
   ]
  },
  {
   "cell_type": "code",
   "execution_count": 5,
   "metadata": {},
   "outputs": [],
   "source": [
    "num_split = int(0.7*len(digits.data))\n",
    "\n",
    "train_features = digits.data[:num_split]\n",
    "train_labels =  digits.target[:num_split]\n",
    "test_features = digits.data[num_split:]\n",
    "test_labels = digits.target[num_split:]"
   ]
  },
  {
   "cell_type": "code",
   "execution_count": 6,
   "metadata": {},
   "outputs": [
    {
     "name": "stdout",
     "output_type": "stream",
     "text": [
      "Number of training examples:  1257\n",
      "Number of test examples:  540\n",
      "Number of total examples: 1797\n"
     ]
    }
   ],
   "source": [
    "print(\"Number of training examples: \",len(train_features))\n",
    "print(\"Number of test examples: \",len(test_features))\n",
    "print(\"Number of total examples:\", len(train_features)+len(test_features))"
   ]
  },
  {
   "cell_type": "code",
   "execution_count": 7,
   "metadata": {},
   "outputs": [
    {
     "name": "stdout",
     "output_type": "stream",
     "text": [
      "[[ 353  817  297  366 1254]\n",
      " [1177  588  725  824  328]\n",
      " [ 376  791  801  165  896]\n",
      " ...\n",
      " [ 148  248  242 1069  255]\n",
      " [ 254  251  849  417  199]\n",
      " [ 183  248 1015  513  224]] [[11.66190379 16.94107435 18.16590212 19.31320792 20.19900988]\n",
      " [21.09502311 21.47091055 21.61018278 21.74856317 21.81742423]\n",
      " [18.02775638 18.1934054  19.62141687 21.16601049 21.9317122 ]\n",
      " ...\n",
      " [20.83266666 21.70253441 22.93468988 24.0208243  25.63201124]\n",
      " [19.5192213  21.09502311 23.87467277 24.69817807 24.8394847 ]\n",
      " [26.73948391 27.62245463 27.73084925 27.80287755 27.92848009]]\n"
     ]
    }
   ],
   "source": [
    "from sklearn.neighbors import KNeighborsClassifier\n",
    "\n",
    "classifier = KNeighborsClassifier(n_neighbors=5, algorithm='brute')\n",
    "classifier.fit(train_features, train_labels)\n",
    "predicted_labels = classifier.predict(test_features)\n",
    "distances, neighbors = classifier.kneighbors(test_features)\n",
    "print(neighbors,distances)\n"
   ]
  },
  {
   "cell_type": "code",
   "execution_count": 8,
   "metadata": {},
   "outputs": [
    {
     "data": {
      "image/png": "[encoded data removed]",
      "text/plain": [
       "<Figure size 432x288 with 18 Axes>"
      ]
     },
     "metadata": {
      "needs_background": "light"
     },
     "output_type": "display_data"
    }
   ],
   "source": [
    "images_and_predictions = list(zip(digits.images[num_split:], neighbors,distances))\n",
    "for i, (real_image, neighbor_index, dist) in enumerate(images_and_predictions[:3]):\n",
    "    plt.subplot(4, 6, 1 + i*6)\n",
    "    plt.axis('off')\n",
    "    plt.imshow(real_image, cmap=plt.cm.gray_r, interpolation='nearest')\n",
    "    plt.title('Real')\n",
    "    \n",
    "    for j in range(len(neighbor_index)):\n",
    "        index = neighbor_index[j]\n",
    "        neighbor_image = digits.images[index]\n",
    "        plt.subplot(4, 6, j+2 + i*6)\n",
    "        plt.axis('off')\n",
    "        plt.imshow(neighbor_image, cmap=plt.cm.gray_r, interpolation='nearest')\n",
    "        plt.title('%.3g' % dist[j])\n",
    "\n",
    "plt.show()"
   ]
  },
  {
   "cell_type": "code",
   "execution_count": 9,
   "metadata": {},
   "outputs": [
    {
     "name": "stdout",
     "output_type": "stream",
     "text": [
      "Classification report for classifier KNeighborsClassifier(algorithm='brute'):\n",
      "              precision    recall  f1-score   support\n",
      "\n",
      "           0       0.98      0.98      0.98        53\n",
      "           1       0.95      0.98      0.96        53\n",
      "           2       0.98      0.96      0.97        53\n",
      "           3       0.96      0.92      0.94        53\n",
      "           4       0.98      0.96      0.97        57\n",
      "           5       0.95      0.98      0.96        56\n",
      "           6       0.98      1.00      0.99        54\n",
      "           7       0.95      1.00      0.97        54\n",
      "           8       0.96      0.90      0.93        52\n",
      "           9       0.96      0.95      0.95        55\n",
      "\n",
      "    accuracy                           0.96       540\n",
      "   macro avg       0.96      0.96      0.96       540\n",
      "weighted avg       0.97      0.96      0.96       540\n",
      "\n",
      "\n",
      "Confusion matrix:\n",
      "[[52  0  0  0  1  0  0  0  0  0]\n",
      " [ 0 52  0  0  0  0  0  0  0  1]\n",
      " [ 1  0 51  1  0  0  0  0  0  0]\n",
      " [ 0  0  1 49  0  1  0  1  1  0]\n",
      " [ 0  0  0  0 55  0  0  1  1  0]\n",
      " [ 0  0  0  0  0 55  1  0  0  0]\n",
      " [ 0  0  0  0  0  0 54  0  0  0]\n",
      " [ 0  0  0  0  0  0  0 54  0  0]\n",
      " [ 0  3  0  0  0  0  0  1 47  1]\n",
      " [ 0  0  0  1  0  2  0  0  0 52]]\n",
      "0.9648148148148148\n"
     ]
    }
   ],
   "source": [
    "from sklearn.metrics import classification_report,confusion_matrix,accuracy_score\n",
    "print(\"Classification report for classifier %s:\\n%s\\n\"\n",
    "      % (classifier, classification_report(test_labels, predicted_labels)))\n",
    "print(\"Confusion matrix:\\n%s\" % confusion_matrix(test_labels, predicted_labels))\n",
    "print(accuracy_score(test_labels, predicted_labels))"
   ]
  },
  {
   "cell_type": "code",
   "execution_count": 10,
   "metadata": {},
   "outputs": [
    {
     "data": {
      "text/plain": [
       "array([[ 0.00000000e+00, -5.55111512e-17,  2.05357143e-01,\n",
       "         6.98214286e+00,  1.23839286e+01,  1.74107143e+00,\n",
       "         2.05357143e-01,  7.14285714e-02],\n",
       "       [ 1.30104261e-18,  1.78571429e-02,  3.12500000e+00,\n",
       "         1.38660714e+01,  9.15178571e+00,  1.90178571e+00,\n",
       "         1.30357143e+00,  4.01785714e-01],\n",
       "       [ 6.50521303e-19,  6.96428571e-01,  1.07321429e+01,\n",
       "         1.19196429e+01,  4.99107143e+00,  5.66071429e+00,\n",
       "         4.33035714e+00,  4.46428571e-01],\n",
       "       [ 8.92857143e-03,  4.92857143e+00,  1.47946429e+01,\n",
       "         6.32142857e+00,  7.72321429e+00,  1.04017857e+01,\n",
       "         5.72321429e+00,  2.67857143e-02],\n",
       "       [ 0.00000000e+00,  8.77678571e+00,  1.47678571e+01,\n",
       "         9.98214286e+00,  1.36517857e+01,  1.39910714e+01,\n",
       "         5.16964286e+00,  0.00000000e+00],\n",
       "       [ 1.16071429e-01,  5.75000000e+00,  1.04821429e+01,\n",
       "         1.18571429e+01,  1.48482143e+01,  1.06517857e+01,\n",
       "         1.69642857e+00,  3.46944695e-18],\n",
       "       [ 8.92857143e-02,  8.92857143e-01,  2.03571429e+00,\n",
       "         7.06250000e+00,  1.40714286e+01,  3.78571429e+00,\n",
       "         2.67857143e-02,  2.77555756e-17],\n",
       "       [ 3.25260652e-19,  2.67857143e-02,  2.76785714e-01,\n",
       "         7.86607143e+00,  1.25625000e+01,  1.66964286e+00,\n",
       "        -4.44089210e-16,  0.00000000e+00]])"
      ]
     },
     "execution_count": 10,
     "metadata": {},
     "output_type": "execute_result"
    }
   ],
   "source": [
    "from sklearn.cluster import KMeans\n",
    "kmeans = KMeans(n_clusters=10)\n",
    "clusters = kmeans.fit(train_features)\n",
    "clusters_data = kmeans.cluster_centers_\n",
    "clusters_images = clusters_data.reshape(len(clusters_data),8,8)\n",
    "clusters_images[0]"
   ]
  },
  {
   "cell_type": "code",
   "execution_count": 11,
   "metadata": {},
   "outputs": [
    {
     "data": {
      "image/png": "[encoded data removed]",
      "text/plain": [
       "<Figure size 432x288 with 10 Axes>"
      ]
     },
     "metadata": {
      "needs_background": "light"
     },
     "output_type": "display_data"
    }
   ],
   "source": [
    "for index, image in enumerate(clusters_images):\n",
    "    plt.subplot(2, 5, index + 1)\n",
    "    plt.axis('off')\n",
    "    plt.imshow(image, cmap=plt.cm.gray_r, interpolation='nearest')"
   ]
  },
  {
   "cell_type": "code",
   "execution_count": 12,
   "metadata": {},
   "outputs": [
    {
     "name": "stdout",
     "output_type": "stream",
     "text": [
      "Classification report for classifier KNeighborsClassifier(algorithm='brute'):\n",
      "              precision    recall  f1-score   support\n",
      "\n",
      "           0       0.02      0.02      0.02        53\n",
      "           1       0.44      0.66      0.53        53\n",
      "           2       0.13      0.13      0.13        53\n",
      "           3       0.00      0.00      0.00        53\n",
      "           4       0.00      0.00      0.00        57\n",
      "           5       0.00      0.00      0.00        56\n",
      "           6       0.00      0.00      0.00        54\n",
      "           7       0.00      0.00      0.00        54\n",
      "           8       0.02      0.02      0.02        52\n",
      "           9       0.20      0.09      0.13        55\n",
      "\n",
      "    accuracy                           0.09       540\n",
      "   macro avg       0.08      0.09      0.08       540\n",
      "weighted avg       0.08      0.09      0.08       540\n",
      "\n",
      "\n",
      "Confusion matrix:\n",
      "[[ 1  0  0 52  0  0  0  0  0  0]\n",
      " [ 0 35  0  0  0  0  0  0  1 17]\n",
      " [ 0  1  7  1  0  0 41  3  0  0]\n",
      " [ 0  6 41  0  0  3  0  1  2  0]\n",
      " [52  1  0  1  0  2  0  0  0  1]\n",
      " [ 1  0  0  0  1  0  0 18 36  0]\n",
      " [ 0  1  0  0 52  0  0  0  0  1]\n",
      " [ 0  3  0  0  0 51  0  0  0  0]\n",
      " [ 0 33  1  0  0  3  1 12  1  1]\n",
      " [ 0  0  4  0  0  1  0 41  4  5]]\n",
      "(540, 64)\n"
     ]
    }
   ],
   "source": [
    "predicted = kmeans.predict(test_features)\n",
    "print(\"Classification report for classifier %s:\\n%s\\n\"\n",
    "      % (classifier, classification_report(test_labels, predicted)))\n",
    "print(\"Confusion matrix:\\n%s\" % confusion_matrix(test_labels, predicted))\n",
    "print(test_features.shape)\n",
    "test_images = test_features.reshape(len(test_features),8,8)"
   ]
  },
  {
   "cell_type": "code",
   "execution_count": 12,
   "metadata": {},
   "outputs": [
    {
     "data": {
      "image/png": "[encoded data removed]",
      "text/plain": [
       "<Figure size 432x288 with 10 Axes>"
      ]
     },
     "metadata": {
      "needs_background": "light"
     },
     "output_type": "display_data"
    }
   ],
   "source": [
    "images_and_predictions = list(zip(test_images, predicted))\n",
    "for i, (test_image, pred) in enumerate(images_and_predictions[:5]):\n",
    "    plt.subplot(2, 5, 1 + i)\n",
    "    plt.axis('off')\n",
    "    plt.imshow(test_image, cmap=plt.cm.gray_r, interpolation='nearest')\n",
    "    plt.title('Real')\n",
    "    \n",
    "\n",
    "    plt.subplot(2, 5, 6 + i)\n",
    "    plt.axis('off')\n",
    "    plt.imshow(clusters_images[pred], cmap=plt.cm.gray_r, interpolation='nearest')\n",
    "    plt.title('Cluster')\n",
    "\n",
    "plt.show()"
   ]
  },
  {
   "cell_type": "code",
   "execution_count": 13,
   "metadata": {},
   "outputs": [
    {
     "name": "stdout",
     "output_type": "stream",
     "text": [
      "Completeness: 0.7399762961438686\n",
      "homogeneity_score: 0.7288382133360487\n",
      "adjusted_mutual_info_score: 0.7248310666363125\n"
     ]
    }
   ],
   "source": [
    "from sklearn.metrics import completeness_score,homogeneity_score,adjusted_mutual_info_score\n",
    "print(\"Completeness: {}\".format(completeness_score(test_labels, predicted)))\n",
    "print(\"homogeneity_score: {}\".format(homogeneity_score(test_labels, predicted)))\n",
    "print(\"adjusted_mutual_info_score: {}\".format(adjusted_mutual_info_score(test_labels, predicted)))"
   ]
  },
  {
   "cell_type": "code",
   "execution_count": 14,
   "metadata": {},
   "outputs": [
    {
     "data": {
      "text/plain": [
       "1.0"
      ]
     },
     "execution_count": 14,
     "metadata": {},
     "output_type": "execute_result"
    }
   ],
   "source": [
    "adjusted_mutual_info_score([0, 0, 2, 2], [1, 1, 0, 0])"
   ]
  },
  {
   "cell_type": "code",
   "execution_count": null,
   "metadata": {},
   "outputs": [],
   "source": []
  }
 ],
 "metadata": {
  "kernelspec": {
   "display_name": "Python 3",
   "language": "python",
   "name": "python3"
  },
  "language_info": {
   "codemirror_mode": {
    "name": "ipython",
    "version": 3
   },
   "file_extension": ".py",
   "mimetype": "text/x-python",
   "name": "python",
   "nbconvert_exporter": "python",
   "pygments_lexer": "ipython3",
   "version": "3.7.4"
  }
 },
 "nbformat": 4,
 "nbformat_minor": 4
}
