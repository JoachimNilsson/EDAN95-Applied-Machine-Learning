{
 "cells": [
  {
   "cell_type": "markdown",
   "metadata": {},
   "source": [
    "# Programming Assignment #4: Recurrent Neural Networks\n",
    "Author: Pierre Nugues"
   ]
  },
  {
   "cell_type": "markdown",
   "metadata": {},
   "source": [
    "## Objectives"
   ]
  },
  {
   "cell_type": "markdown",
   "metadata": {},
   "source": [
    "The objectives of this assignment are to:\n",
    "* Write a program to recognize named entities in text\n",
    "* Learn how to manage a text data set\n",
    "* Apply recurrent neural networks to text\n",
    "* Know what word embeddings are\n",
    "* Write a short report on your experiments. This report is mandatory to pass the assignment."
   ]
  },
  {
   "cell_type": "markdown",
   "metadata": {},
   "source": [
    "## Organization and location"
   ]
  },
  {
   "cell_type": "markdown",
   "metadata": {},
   "source": [
    "You can work alone or collaborate with another student:\n",
    "* Each group will have to write Python programs to recognize named entities in text.\n",
    "* You will have to experiment different architectures, namely RNN and LSTM, and compare the results you obtained.\n",
    "* Each student will have to write an individual report on these experiments."
   ]
  },
  {
   "cell_type": "markdown",
   "metadata": {},
   "source": [
    "## Imports"
   ]
  },
  {
   "cell_type": "code",
   "execution_count": 62,
   "metadata": {},
   "outputs": [],
   "source": [
    "import sys\n",
    "import regex as re\n",
    "import numpy as np\n",
    "from numpy.linalg import norm\n",
    "from scipy.spatial.distance import cosine\n",
    "import matplotlib.pyplot as plt\n",
    "from sklearn.preprocessing import normalize\n",
    "from keras.models import Sequential\n",
    "from keras.layers import Embedding, Flatten, Dense, Dropout, Lambda, TimeDistributed\n",
    "from keras.layers import LSTM, Bidirectional, SimpleRNN, BatchNormalization\n",
    "from keras.models import Model\n",
    "from keras.preprocessing.sequence import pad_sequences\n",
    "from keras.utils.np_utils import to_categorical\n",
    "from keras.activations import softmax\n",
    "\n",
    "EPOCHS = 15\n",
    "LSTM_UNITS = 100"
   ]
  },
  {
   "cell_type": "markdown",
   "metadata": {},
   "source": [
    "## Collecting a Dataset"
   ]
  },
  {
   "cell_type": "markdown",
   "metadata": {},
   "source": [
    "1. You will use a dataset from the CoNLL conferences that benchmark natural language processing systems and tasks. There were two conferences on named entity recognition: <a href=\"https://www.clips.uantwerpen.be/conll2002/ner/\">CoNLL 2002</a> (Spanish and Dutch) and <a href=\"https://www.clips.uantwerpen.be/conll2003/ner/\">CoNLL 2003</a> (English and German). In this assignment, you will work on the English dataset. Read the description of the task.\n",
    "2. The datasets are protected by a license and you need to obtain it to reconstruct the data. Alternatively, you can try to find one on github (type conll2003 in the search box) or use the Google dataset search: <a href=\"https://toolbox.google.com/datasetsearch\">https://toolbox.google.com/datasetsearch</a>. All this may take time and your teacher created a local copy in the `/usr/local/cs/EDAN95/datasets/NER-data` folder.\n",
    "3. The dataset comes in the form of three files: a training set, a development set, and a test set. <!--, named:\n",
    "    <tt>eng.train</tt>, <tt>eng.testa</tt> (validation), and <tt>eng.testb</tt> (test).-->"
   ]
  },
  {
   "cell_type": "markdown",
   "metadata": {},
   "source": [
    "## Reading the Corpus"
   ]
  },
  {
   "cell_type": "markdown",
   "metadata": {},
   "source": [
    "You will read the corpus with the cells below. The functions will enable you to load the files in the form of a list of dictionaries."
   ]
  },
  {
   "cell_type": "code",
   "execution_count": 1,
   "metadata": {},
   "outputs": [],
   "source": [
    "import os\n",
    "#os.getcwd()\n",
    "BASE_DIR = '/Users/joachimnilsson/Documents/Skola/Tillämpad maskininlärning'"
   ]
  },
  {
   "cell_type": "code",
   "execution_count": 2,
   "metadata": {},
   "outputs": [],
   "source": [
    "def load_conll2003_en():\n",
    "    train_file = BASE_DIR + '/NER-data/train.txt'\n",
    "    dev_file = BASE_DIR + '/NER-data/valid.txt'\n",
    "    test_file = BASE_DIR + '/NER-data/test.txt'\n",
    "    column_names = ['form', 'ppos', 'pchunk', 'ner']\n",
    "    train_sentences = open(train_file, encoding='utf8').read().strip()\n",
    "    dev_sentences = open(dev_file, encoding='utf8').read().strip()\n",
    "    test_sentences = open(test_file, encoding='utf8').read().strip()\n",
    "    return train_sentences, dev_sentences, test_sentences, column_names"
   ]
  },
  {
   "cell_type": "code",
   "execution_count": 3,
   "metadata": {},
   "outputs": [
    {
     "data": {
      "text/plain": [
       "'-DOCSTART- -X- -X- O\\n\\nEU NNP B-NP B-ORG\\nrejects VBZ B-VP O\\nGerman JJ B-NP B-MISC\\ncall NN I-NP O\\nto T'"
      ]
     },
     "execution_count": 3,
     "metadata": {},
     "output_type": "execute_result"
    }
   ],
   "source": [
    "train_sentences, dev_sentences, test_sentences, column_names = load_conll2003_en()\n",
    "train_sentences[:100]"
   ]
  },
  {
   "cell_type": "code",
   "execution_count": 4,
   "metadata": {},
   "outputs": [],
   "source": [
    "class Token(dict):\n",
    "    pass\n",
    "\n",
    "\n",
    "class CoNLLDictorizer:\n",
    "\n",
    "    def __init__(self, column_names, sent_sep='\\n\\n', col_sep=' +'):\n",
    "        self.column_names = column_names\n",
    "        self.sent_sep = sent_sep\n",
    "        self.col_sep = col_sep\n",
    "\n",
    "    def fit(self):\n",
    "        pass\n",
    "\n",
    "    def transform(self, corpus):\n",
    "        corpus = corpus.strip()\n",
    "        sentences = re.split(self.sent_sep, corpus)\n",
    "        return list(map(self._split_in_words, sentences))\n",
    "\n",
    "    def fit_transform(self, corpus):\n",
    "        return self.transform(corpus)\n",
    "\n",
    "    def _split_in_words(self, sentence):\n",
    "        rows = re.split('\\n', sentence)\n",
    "        return [Token(dict(zip(self.column_names,\n",
    "                               re.split(self.col_sep, row))))\n",
    "                for row in rows]"
   ]
  },
  {
   "cell_type": "code",
   "execution_count": 67,
   "metadata": {},
   "outputs": [],
   "source": [
    "conll_dict = CoNLLDictorizer(column_names, col_sep=' +')\n",
    "train_dict = conll_dict.transform(train_sentences)\n",
    "dev_dict = conll_dict.transform(dev_sentences)\n",
    "test_dict = conll_dict.transform(test_sentences)"
   ]
  },
  {
   "cell_type": "code",
   "execution_count": 68,
   "metadata": {},
   "outputs": [
    {
     "name": "stdout",
     "output_type": "stream",
     "text": [
      "[{'form': '-DOCSTART-', 'ppos': '-X-', 'pchunk': '-X-', 'ner': 'O'}]\n",
      "{'form': 'Peter', 'ppos': 'NNP', 'pchunk': 'B-NP', 'ner': 'B-PER'}\n",
      "{'form': 'Blackburn', 'ppos': 'NNP', 'pchunk': 'I-NP', 'ner': 'I-PER'}\n"
     ]
    }
   ],
   "source": [
    "print(train_dict[0])\n",
    "print('\\n'.join(map(str, train_dict[2])))"
   ]
  },
  {
   "cell_type": "markdown",
   "metadata": {},
   "source": [
    "## Evaluating your Models"
   ]
  },
  {
   "cell_type": "markdown",
   "metadata": {},
   "source": [
    "You will train the models with the traiing set and the test set to evaluate them. For this, you will apply the `conlleval` script that will compute the harmonic mean of the precision and recall: F1. \n",
    "\n",
    "`conlleval` was written in Perl and you have a local copy of this script in `/usr/local/cs/EDAN95/datasets/ner/bin`. Some people rewrote it in Python and you will use such such a translation in this lab. The line below installs it."
   ]
  },
  {
   "cell_type": "code",
   "execution_count": 69,
   "metadata": {},
   "outputs": [],
   "source": [
    "#!pip install conlleval\n",
    "import conlleval"
   ]
  },
  {
   "cell_type": "markdown",
   "metadata": {},
   "source": [
    "## Collecting the Embeddings"
   ]
  },
  {
   "cell_type": "markdown",
   "metadata": {},
   "source": [
    "You will represent the words with the GloVe embeddings:\n",
    "1. Download the GloVe embeddings 6B from <a href=\"https://nlp.stanford.edu/projects/glove/\">https://nlp.stanford.edu/projects/glove/</a> and keep the 100d vectors.\n",
    "2. You have a local copy of this script in `/usr/local/cs/EDAN95/datasets/`;\n",
    "3. Apply a function that reads GloVe embeddings and store them in a dictionary, where the keys will be the words and the values, the embeddings."
   ]
  },
  {
   "cell_type": "code",
   "execution_count": 70,
   "metadata": {},
   "outputs": [],
   "source": [
    "embedding_file = '/Users/joachimnilsson/Documents/Skola/Tillämpad maskininlärning/glove.6B.100d.txt'"
   ]
  },
  {
   "cell_type": "code",
   "execution_count": 71,
   "metadata": {},
   "outputs": [],
   "source": [
    "def read_embeddings(file):\n",
    "    \"\"\"\n",
    "    Return the embeddings in the from of a dictionary\n",
    "    :param file:\n",
    "    :return:\n",
    "    \"\"\"\n",
    "    embeddings = {}\n",
    "    glove = open(file, encoding='utf8')\n",
    "    for line in glove:\n",
    "        values = line.strip().split()\n",
    "        word = values[0]\n",
    "        vector = np.array(values[1:], dtype='float32')\n",
    "        embeddings[word] = vector\n",
    "    glove.close()\n",
    "    return embeddings"
   ]
  },
  {
   "cell_type": "code",
   "execution_count": 72,
   "metadata": {},
   "outputs": [
    {
     "name": "stdout",
     "output_type": "stream",
     "text": [
      "# words in embedding dictionary: 400000\n"
     ]
    }
   ],
   "source": [
    "# We read the embeddings\n",
    "embeddings_dict = read_embeddings(embedding_file)\n",
    "embedded_words = sorted(list(embeddings_dict.keys()))\n",
    "print('# words in embedding dictionary:', len(embedded_words))"
   ]
  },
  {
   "cell_type": "markdown",
   "metadata": {},
   "source": [
    "Using a cosine similarity, write a `closest(target_word, embeddings, count=10)` that computes the 5 closest words to the words _table_, _france_, and _sweden_"
   ]
  },
  {
   "cell_type": "code",
   "execution_count": 73,
   "metadata": {},
   "outputs": [],
   "source": [
    "import operator\n",
    "def closest(target_word, embeddings, count=10):\n",
    "    cosine_dict = {word : np.dot(embeddings[target_word], embedding)/(np.linalg.norm(embeddings[target_word])* np.linalg.norm(embedding)) for word, embedding in embeddings.items()}\n",
    "    return list(list(zip(*sorted(cosine_dict.items(), key=operator.itemgetter(1), reverse=True)[:count]))[0])"
   ]
  },
  {
   "cell_type": "code",
   "execution_count": 74,
   "metadata": {},
   "outputs": [
    {
     "name": "stdout",
     "output_type": "stream",
     "text": [
      "['france', 'belgium', 'french', 'britain', 'spain', 'paris', 'germany', 'italy', 'europe', 'netherlands']\n",
      "['sweden', 'denmark', 'norway', 'finland', 'netherlands', 'austria', 'switzerland', 'germany', 'swedish', 'belgium']\n",
      "['table', 'tables', 'place', 'bottom', 'room', 'side', 'sit', 'top', 'here', 'pool']\n"
     ]
    }
   ],
   "source": [
    "print(closest('france', embeddings_dict))\n",
    "print(closest('sweden', embeddings_dict))\n",
    "print(closest('table', embeddings_dict))"
   ]
  },
  {
   "cell_type": "markdown",
   "metadata": {},
   "source": [
    "## Extracting the $\\mathbf{X}$ and $\\mathbf{Y}$ Lists of Symbols"
   ]
  },
  {
   "cell_type": "markdown",
   "metadata": {},
   "source": [
    "Write a `build_sequences(corpus_dict, key_x='form', key_y='ner', tolower=True)` function that for each sentence returns the $\\mathbf{x}$ and $\\mathbf{y}$ lists of symbols consisting of words and NER tags."
   ]
  },
  {
   "cell_type": "code",
   "execution_count": 75,
   "metadata": {},
   "outputs": [],
   "source": [
    "train_dict\n",
    "def build_sequences(corpus_dict, key_x='form', key_y='ner', tolower=True):\n",
    "    \"\"\"\n",
    "    Creates sequences from a list of dictionaries\n",
    "    :param corpus_dict:\n",
    "    :param key_x:\n",
    "    :param key_y:\n",
    "    :return:\n",
    "    \"\"\"\n",
    "    X = []\n",
    "    Y = []\n",
    "    for sentence in corpus_dict:\n",
    "        x = []\n",
    "        y = []\n",
    "        for word in sentence:\n",
    "            x += [word[key_x]]\n",
    "            y += [word[key_y]]\n",
    "        if tolower:\n",
    "            x = list(map(str.lower, x))\n",
    "        X += [x]\n",
    "        Y += [y]\n",
    "    return X, Y"
   ]
  },
  {
   "cell_type": "markdown",
   "metadata": {},
   "source": [
    "Apply this function to your datasets so that you create $\\mathbf{X}$ and $\\mathbf{Y}$ lists of lists consisting of words and NER tags\n",
    "        \n",
    "For the second sentence of the training set, you should have:<br/>\n",
    "<tt>x = ['eu', 'rejects', 'german', 'call', 'to', 'boycott', 'british', 'lamb', '.']</tt><br/>\n",
    "<tt>y = ['I-ORG', 'O', 'I-MISC', 'O', 'O', 'O', 'I-MISC', 'O', 'O']</tt><br/>\n",
    "Some datasets you may find on the web use a different NER tagset, where <tt>I-</tt> is\n",
    "replaced with <tt>B-</tt>, like <tt>B-ORG</tt> instead of <tt>I-ORG</tt>. This will not change the results."
   ]
  },
  {
   "cell_type": "code",
   "execution_count": 76,
   "metadata": {},
   "outputs": [
    {
     "name": "stdout",
     "output_type": "stream",
     "text": [
      "First sentence, words ['eu', 'rejects', 'german', 'call', 'to', 'boycott', 'british', 'lamb', '.']\n",
      "First sentence, NER ['B-ORG', 'O', 'B-MISC', 'O', 'O', 'O', 'B-MISC', 'O', 'O']\n"
     ]
    }
   ],
   "source": [
    "X, Y = build_sequences(train_dict, key_x='form', key_y='ner')\n",
    "print('First sentence, words', X[1])\n",
    "print('First sentence, NER', Y[1])"
   ]
  },
  {
   "cell_type": "markdown",
   "metadata": {},
   "source": [
    "## Vocabulary"
   ]
  },
  {
   "cell_type": "markdown",
   "metadata": {},
   "source": [
    "Create a vocabulary of all the words observed in the training set and the words in GloVe. You should find 402,595 different words. You will proceed in two steps.\n",
    "\n",
    "First extract the list of unique words from the CoNLL training set and the list of tags. You will sort them"
   ]
  },
  {
   "cell_type": "code",
   "execution_count": 77,
   "metadata": {},
   "outputs": [],
   "source": [
    "words = []\n",
    "for x in X:\n",
    "    words.extend(x)\n",
    "words = sorted(set(words))\n",
    "ner = []\n",
    "for y in Y:\n",
    "    ner.extend(y)\n",
    "ner = sorted(set(ner))"
   ]
  },
  {
   "cell_type": "code",
   "execution_count": 78,
   "metadata": {},
   "outputs": [
    {
     "name": "stdout",
     "output_type": "stream",
     "text": [
      "# words seen in training corpus: 21010\n",
      "# NER tags seen: 9\n",
      "['B-LOC', 'B-MISC', 'B-ORG', 'B-PER', 'I-LOC', 'I-MISC', 'I-ORG', 'I-PER', 'O']\n"
     ]
    }
   ],
   "source": [
    "print('# words seen in training corpus:', len(words))\n",
    "print('# NER tags seen:', len(ner))\n",
    "print(ner)"
   ]
  },
  {
   "cell_type": "markdown",
   "metadata": {},
   "source": [
    "Then merge the list of unique CoNLL words with the words in the embedding file. You will sort this list"
   ]
  },
  {
   "cell_type": "code",
   "execution_count": 79,
   "metadata": {},
   "outputs": [
    {
     "name": "stdout",
     "output_type": "stream",
     "text": [
      "Words in GloVe: 400000\n"
     ]
    }
   ],
   "source": [
    "embeddings_words = embeddings_dict.keys()\n",
    "print('Words in GloVe:',  len(embeddings_dict.keys()))\n",
    "vocabulary_words = sorted(set(words + list(embeddings_words)))\n"
   ]
  },
  {
   "cell_type": "code",
   "execution_count": 80,
   "metadata": {},
   "outputs": [
    {
     "name": "stdout",
     "output_type": "stream",
     "text": [
      "# words in the vocabulary: embeddings and corpus: 402595\n"
     ]
    }
   ],
   "source": [
    "print('# words in the vocabulary: embeddings and corpus:', len(vocabulary_words))"
   ]
  },
  {
   "cell_type": "markdown",
   "metadata": {},
   "source": [
    "## Index"
   ]
  },
  {
   "cell_type": "markdown",
   "metadata": {},
   "source": [
    "Create indices `word2idx`, `ner2idx` and inverted indices `idx2word`, `idx2ner` for the words and the NER: i.e. you will associate each word with a number. You will use index 0 for the padding symbol and 1 for unknown words."
   ]
  },
  {
   "cell_type": "code",
   "execution_count": 81,
   "metadata": {},
   "outputs": [],
   "source": [
    "idx2word = dict(enumerate(vocabulary_words, start=2))\n",
    "idx2ner = dict(enumerate(ner, start=2))\n",
    "word2idx = {v: k for k, v in idx2word.items()}\n",
    "ner2idx = {v: k for k, v in idx2ner.items()}"
   ]
  },
  {
   "cell_type": "code",
   "execution_count": 82,
   "metadata": {},
   "outputs": [
    {
     "name": "stdout",
     "output_type": "stream",
     "text": [
      "word index: [('!', 2), ('!!', 3), ('!!!', 4), ('!!!!', 5), ('!!!!!', 6), ('!?', 7), ('!?!', 8), ('\"', 9), ('#', 10), ('##', 11), ('###', 12), ('#a', 13), ('#aabccc', 14), ('#b', 15), ('#c', 16), ('#cc', 17), ('#ccc', 18), ('#cccccc', 19), ('#ccccff', 20), ('#d', 21), ('#daa', 22), ('#dcdcdc', 23), ('#e', 24), ('#f', 25), ('#faf', 26)]\n",
      "NER index: [('B-LOC', 2), ('B-MISC', 3), ('B-ORG', 4), ('B-PER', 5), ('I-LOC', 6), ('I-MISC', 7), ('I-ORG', 8), ('I-PER', 9), ('O', 10)]\n"
     ]
    }
   ],
   "source": [
    "print('word index:', list(word2idx.items())[:25])\n",
    "print('NER index:', list(ner2idx.items())[:25])"
   ]
  },
  {
   "cell_type": "markdown",
   "metadata": {},
   "source": [
    "## Embedding Matrix"
   ]
  },
  {
   "cell_type": "markdown",
   "metadata": {},
   "source": [
    "Create a matrix of dimensions $(M, N)$, where $M$ will be the size of the vocabulary: The unique words in the training set and the words in GloVe, and $N$, the dimension of the embeddings.\n",
    "The padding symbol and the unknown word symbol will be part of the vocabulary. The shape of your matrix should be: (402597, 100). Initialize it with random values."
   ]
  },
  {
   "cell_type": "code",
   "execution_count": 83,
   "metadata": {},
   "outputs": [],
   "source": [
    "EMBEDDING_DIM = 100\n",
    "embedding_matrix = np.random.random((len(vocabulary_words) + 2, EMBEDDING_DIM))"
   ]
  },
  {
   "cell_type": "code",
   "execution_count": 84,
   "metadata": {},
   "outputs": [
    {
     "name": "stdout",
     "output_type": "stream",
     "text": [
      "Shape of embedding matrix: (402597, 100)\n"
     ]
    }
   ],
   "source": [
    "print('Shape of embedding matrix:', embedding_matrix.shape)"
   ]
  },
  {
   "cell_type": "markdown",
   "metadata": {},
   "source": [
    "Fill the matrix with the GloVe embeddings when available. You will use the indices from the previous section. You will call `out_of_embeddings` the list of words in CoNLL, but not in the embedding list."
   ]
  },
  {
   "cell_type": "code",
   "execution_count": 85,
   "metadata": {},
   "outputs": [],
   "source": [
    "out_of_embeddings = []\n",
    "for word in vocabulary_words:\n",
    "    if word in embeddings_dict:\n",
    "        # If the words are in the embeddings, we fill them with a value\n",
    "        embedding_matrix[word2idx[word]] = embeddings_dict[word]\n",
    "    else:\n",
    "        out_of_embeddings.append(word)"
   ]
  },
  {
   "cell_type": "code",
   "execution_count": 86,
   "metadata": {},
   "outputs": [
    {
     "name": "stdout",
     "output_type": "stream",
     "text": [
      "Out of embeddings: 2595\n"
     ]
    },
    {
     "data": {
      "text/plain": [
       "['zelezarny',\n",
       " 'zhilan',\n",
       " 'zieger',\n",
       " 'zighayer',\n",
       " 'zilinskiene',\n",
       " 'zirka-nibas',\n",
       " 'zuleeg',\n",
       " 'zundra',\n",
       " 'zwingmann',\n",
       " 'zyrecha']"
      ]
     },
     "execution_count": 86,
     "metadata": {},
     "output_type": "execute_result"
    }
   ],
   "source": [
    "print('Out of embeddings:', len(out_of_embeddings))\n",
    "out_of_embeddings[-10:]"
   ]
  },
  {
   "cell_type": "code",
   "execution_count": 87,
   "metadata": {},
   "outputs": [
    {
     "name": "stdout",
     "output_type": "stream",
     "text": [
      "Embedding of the padding symbol, idx 0, random numbers [0.60051544 0.00364361 0.98140287 0.3751186  0.59537357 0.79381015\n",
      " 0.17400908 0.41406644 0.26955244 0.11798138]\n",
      "Embedding of table [-0.61453998  0.89692998  0.56770998  0.39102    -0.22437     0.49035001\n",
      "  0.10868     0.27410999 -0.23833001 -0.52152997]\n",
      "Embedding of zwingmann, random numbers [0.79411621 0.75856874 0.15494491 0.03463282 0.99940954 0.12720572\n",
      " 0.98312422 0.00480622 0.17957639 0.680715  ]\n"
     ]
    }
   ],
   "source": [
    "print('Embedding of the padding symbol, idx 0, random numbers', embedding_matrix[0][:10])\n",
    "print('Embedding of table', embedding_matrix[word2idx['table']][:10])\n",
    "print('Embedding of zwingmann, random numbers', embedding_matrix[word2idx['zwingmann']][:10])"
   ]
  },
  {
   "cell_type": "markdown",
   "metadata": {},
   "source": [
    "## Creating the $\\mathbf{X}$ and $\\mathbf{Y}$ Sequences"
   ]
  },
  {
   "cell_type": "markdown",
   "metadata": {},
   "source": [
    "You will now create the input and output sequences with numerical indices. First, convert the $\\mathbf{X}$ and $\\mathbf{Y}$ lists of symbols in lists of numbers using the indices you created"
   ]
  },
  {
   "cell_type": "code",
   "execution_count": 88,
   "metadata": {},
   "outputs": [],
   "source": [
    "X_idx = [[word2idx[word] for word in sentence] for sentence in X]\n",
    "Y_idx = [[ner2idx[ner] for ner in sentence] for sentence in Y]"
   ]
  },
  {
   "cell_type": "code",
   "execution_count": 89,
   "metadata": {},
   "outputs": [
    {
     "name": "stdout",
     "output_type": "stream",
     "text": [
      "First sentences, word indices [[935], [142143, 307143, 161836, 91321, 363368, 83766, 85852, 218260, 936], [284434, 79019]]\n",
      "First sentences, POS indices [[10], [4, 10, 3, 10, 10, 10, 3, 10, 10], [5, 9]]\n"
     ]
    }
   ],
   "source": [
    "print('First sentences, word indices', X_idx[:3])\n",
    "print('First sentences, POS indices', Y_idx[:3])"
   ]
  },
  {
   "cell_type": "markdown",
   "metadata": {},
   "source": [
    "Pad the sentences using the <tt>pad_sequences</tt> function. As maximum length and `maxlen` argument, you will use 150 or greater. What matters is that you have a length that is larger than the maximum length observed in your training and development corpora. After padding, the second sentence you look like (the indices are not necessarily the same).\n",
    "```\n",
    "x = [     0      0      0      0      0      0      0      0      0      0\n",
    "0      0      0      0      0      0      0      0      0      0\n",
    "0      0      0      0      0      0      0      0      0      0\n",
    "0      0      0      0      0      0      0      0      0      0\n",
    "0      0      0      0      0      0      0      0      0      0\n",
    "0      0      0      0      0      0      0      0      0      0\n",
    "0      0      0      0      0      0      0      0      0      0\n",
    "0      0      0      0      0      0      0      0      0      0\n",
    "0      0      0      0      0      0      0      0      0      0\n",
    "0      0      0      0      0      0      0      0      0      0\n",
    "0      0      0      0      0      0      0      0      0      0\n",
    "0      0      0      0      0      0      0      0      0      0\n",
    "0      0      0      0      0      0      0      0      0      0\n",
    "0      0      0      0      0      0      0      0      0      0\n",
    "0 142143 307143 161836  91321 363368  83766  85852 218260    936]\n",
    "y = [0 0 0 0 0 0 0 0 0 0 0 0 0 0 0 0 0 0 0 0 0 0 0 0 0 0 0 0 0 0 0 0 0 0 0 0 0\n",
    "0 0 0 0 0 0 0 0 0 0 0 0 0 0 0 0 0 0 0 0 0 0 0 0 0 0 0 0 0 0 0 0 0 0 0 0 0\n",
    "0 0 0 0 0 0 0 0 0 0 0 0 0 0 0 0 0 0 0 0 0 0 0 0 0 0 0 0 0 0 0 0 0 0 0 0 0\n",
    "0 0 0 0 0 0 0 0 0 0 0 0 0 0 0 0 0 0 0 0 0 0 0 0 0 0 0 0 0 0 7 9 6 9 9 9 6\n",
    "9 9]\n",
    "```"
   ]
  },
  {
   "cell_type": "code",
   "execution_count": 90,
   "metadata": {},
   "outputs": [],
   "source": [
    "from keras.preprocessing.sequence import pad_sequences\n",
    "max_sentence_len = max([len(sentence) for sentence in X_idx])\n",
    "X = pad_sequences(X_idx, maxlen=150, padding='post')\n",
    "Y = pad_sequences(Y_idx,maxlen=150, padding='post')"
   ]
  },
  {
   "cell_type": "code",
   "execution_count": 91,
   "metadata": {},
   "outputs": [
    {
     "name": "stdout",
     "output_type": "stream",
     "text": [
      "[142143 307143 161836  91321 363368  83766  85852 218260    936      0\n",
      "      0      0      0      0      0      0      0      0      0      0\n",
      "      0      0      0      0      0      0      0      0      0      0\n",
      "      0      0      0      0      0      0      0      0      0      0\n",
      "      0      0      0      0      0      0      0      0      0      0\n",
      "      0      0      0      0      0      0      0      0      0      0\n",
      "      0      0      0      0      0      0      0      0      0      0\n",
      "      0      0      0      0      0      0      0      0      0      0\n",
      "      0      0      0      0      0      0      0      0      0      0\n",
      "      0      0      0      0      0      0      0      0      0      0\n",
      "      0      0      0      0      0      0      0      0      0      0\n",
      "      0      0      0      0      0      0      0      0      0      0\n",
      "      0      0      0      0      0      0      0      0      0      0\n",
      "      0      0      0      0      0      0      0      0      0      0\n",
      "      0      0      0      0      0      0      0      0      0      0]\n",
      "[ 4 10  3 10 10 10  3 10 10  0  0  0  0  0  0  0  0  0  0  0  0  0  0  0\n",
      "  0  0  0  0  0  0  0  0  0  0  0  0  0  0  0  0  0  0  0  0  0  0  0  0\n",
      "  0  0  0  0  0  0  0  0  0  0  0  0  0  0  0  0  0  0  0  0  0  0  0  0\n",
      "  0  0  0  0  0  0  0  0  0  0  0  0  0  0  0  0  0  0  0  0  0  0  0  0\n",
      "  0  0  0  0  0  0  0  0  0  0  0  0  0  0  0  0  0  0  0  0  0  0  0  0\n",
      "  0  0  0  0  0  0  0  0  0  0  0  0  0  0  0  0  0  0  0  0  0  0  0  0\n",
      "  0  0  0  0  0  0]\n"
     ]
    }
   ],
   "source": [
    "print(X[1])\n",
    "print(Y[1])"
   ]
  },
  {
   "cell_type": "code",
   "execution_count": 92,
   "metadata": {},
   "outputs": [],
   "source": [
    "y_train = to_categorical(Y, num_classes=len(ner) + 2)"
   ]
  },
  {
   "cell_type": "code",
   "execution_count": 93,
   "metadata": {},
   "outputs": [
    {
     "data": {
      "text/plain": [
       "array([[0., 0., 0., 0., 1., 0., 0., 0., 0., 0., 0.],\n",
       "       [0., 0., 0., 0., 0., 0., 0., 0., 0., 0., 1.],\n",
       "       [0., 0., 0., 1., 0., 0., 0., 0., 0., 0., 0.],\n",
       "       [0., 0., 0., 0., 0., 0., 0., 0., 0., 0., 1.],\n",
       "       [0., 0., 0., 0., 0., 0., 0., 0., 0., 0., 1.],\n",
       "       [0., 0., 0., 0., 0., 0., 0., 0., 0., 0., 1.],\n",
       "       [0., 0., 0., 1., 0., 0., 0., 0., 0., 0., 0.],\n",
       "       [0., 0., 0., 0., 0., 0., 0., 0., 0., 0., 1.],\n",
       "       [0., 0., 0., 0., 0., 0., 0., 0., 0., 0., 1.],\n",
       "       [1., 0., 0., 0., 0., 0., 0., 0., 0., 0., 0.]], dtype=float32)"
      ]
     },
     "execution_count": 93,
     "metadata": {},
     "output_type": "execute_result"
    }
   ],
   "source": [
    "y_train[1][:10]"
   ]
  },
  {
   "cell_type": "markdown",
   "metadata": {},
   "source": [
    "Do the same for the development set: Build the sequences, map them to indices, pad them, and create $\\mathbf{Y}$ vectors"
   ]
  },
  {
   "cell_type": "code",
   "execution_count": 94,
   "metadata": {},
   "outputs": [],
   "source": [
    "X_dev, Y_dev = build_sequences(dev_dict, key_x='form', key_y='ner')\n",
    "X_dev_idx = [[word2idx[word] if word in word2idx else 1 for word in sentence] for sentence in X_dev]\n",
    "Y_dev_idx = [[ner2idx[ner] if ner in ner2idx else 1 for ner in sentence] for sentence in Y_dev]\n",
    "X_dev = pad_sequences(X_dev_idx, maxlen=150, padding='post')\n",
    "Y_dev = pad_sequences(Y_dev_idx,maxlen=150, padding='post')\n",
    "y_dev = to_categorical(Y_dev, num_classes=len(ner) + 2)"
   ]
  },
  {
   "cell_type": "markdown",
   "metadata": {},
   "source": [
    "## Building a Simple Recurrent Neural Network"
   ]
  },
  {
   "cell_type": "markdown",
   "metadata": {},
   "source": [
    "Create a simple recurrent network and train a model with the training set. As layers, you will use `Embedding`, `SimpleRNN`, and `Dense`."
   ]
  },
  {
   "cell_type": "code",
   "execution_count": 95,
   "metadata": {},
   "outputs": [],
   "source": [
    "from keras import models, layers\n",
    "model = models.Sequential()\n",
    "model.add(layers.Embedding(len(vocabulary_words) + 2,\n",
    "                           EMBEDDING_DIM,\n",
    "                           mask_zero=True,\n",
    "                           input_length=None))\n",
    "model.layers[0].set_weights([embedding_matrix])\n",
    "# The default is True\n",
    "model.layers[0].trainable = True\n",
    "model.add(SimpleRNN(100, return_sequences=True))\n",
    "# model.add(Bidirectional(SimpleRNN(100, return_sequences=True)))\n",
    "#model.add(Bidirectional(LSTM(100, return_sequences=True)))\n",
    "model.add(Dense(len(ner) + 2, activation='softmax'))\n"
   ]
  },
  {
   "cell_type": "markdown",
   "metadata": {},
   "source": [
    "Compile your network. "
   ]
  },
  {
   "cell_type": "code",
   "execution_count": 96,
   "metadata": {},
   "outputs": [
    {
     "name": "stdout",
     "output_type": "stream",
     "text": [
      "Model: \"sequential_2\"\n",
      "_________________________________________________________________\n",
      "Layer (type)                 Output Shape              Param #   \n",
      "=================================================================\n",
      "embedding_2 (Embedding)      (None, None, 100)         40259700  \n",
      "_________________________________________________________________\n",
      "simple_rnn_2 (SimpleRNN)     (None, None, 100)         20100     \n",
      "_________________________________________________________________\n",
      "dense_2 (Dense)              (None, None, 11)          1111      \n",
      "=================================================================\n",
      "Total params: 40,280,911\n",
      "Trainable params: 40,280,911\n",
      "Non-trainable params: 0\n",
      "_________________________________________________________________\n",
      "(3466, 150, 11)\n",
      "(3466, 150)\n"
     ]
    }
   ],
   "source": [
    "model.compile(loss='categorical_crossentropy',\n",
    "              optimizer='rmsprop',\n",
    "              metrics=['acc'])\n",
    "model.summary()\n",
    "print(y_dev.shape)\n",
    "print(X_dev.shape)"
   ]
  },
  {
   "cell_type": "markdown",
   "metadata": {},
   "source": [
    "Fit it"
   ]
  },
  {
   "cell_type": "code",
   "execution_count": 97,
   "metadata": {},
   "outputs": [
    {
     "name": "stdout",
     "output_type": "stream",
     "text": [
      "Epoch 1/15\n",
      "118/118 [==============================] - 74s 629ms/step - loss: 0.0425 - acc: 0.8741 - val_loss: 0.0267 - val_acc: 0.9283\n",
      "Epoch 2/15\n",
      "118/118 [==============================] - 71s 601ms/step - loss: 0.0185 - acc: 0.9421 - val_loss: 0.0203 - val_acc: 0.9432\n",
      "Epoch 3/15\n",
      "118/118 [==============================] - 69s 588ms/step - loss: 0.0139 - acc: 0.9553 - val_loss: 0.0167 - val_acc: 0.9547\n",
      "Epoch 4/15\n",
      "118/118 [==============================] - 83s 704ms/step - loss: 0.0115 - acc: 0.9628 - val_loss: 0.0180 - val_acc: 0.9454\n",
      "Epoch 5/15\n",
      "118/118 [==============================] - 68s 577ms/step - loss: 0.0099 - acc: 0.9676 - val_loss: 0.0148 - val_acc: 0.9598\n",
      "Epoch 6/15\n",
      "118/118 [==============================] - 63s 537ms/step - loss: 0.0087 - acc: 0.9712 - val_loss: 0.0138 - val_acc: 0.9601\n",
      "Epoch 7/15\n",
      "118/118 [==============================] - 62s 522ms/step - loss: 0.0077 - acc: 0.9745 - val_loss: 0.0142 - val_acc: 0.9621\n",
      "Epoch 8/15\n",
      "118/118 [==============================] - 65s 548ms/step - loss: 0.0070 - acc: 0.9767 - val_loss: 0.0144 - val_acc: 0.9605\n",
      "Epoch 9/15\n",
      "118/118 [==============================] - 61s 519ms/step - loss: 0.0064 - acc: 0.9785 - val_loss: 0.0130 - val_acc: 0.9637\n",
      "Epoch 10/15\n",
      "118/118 [==============================] - 70s 593ms/step - loss: 0.0058 - acc: 0.9807 - val_loss: 0.0142 - val_acc: 0.9578\n",
      "Epoch 11/15\n",
      "118/118 [==============================] - 65s 548ms/step - loss: 0.0053 - acc: 0.9820 - val_loss: 0.0148 - val_acc: 0.9620\n",
      "Epoch 12/15\n",
      "118/118 [==============================] - 68s 574ms/step - loss: 0.0048 - acc: 0.9837 - val_loss: 0.0138 - val_acc: 0.9600\n",
      "Epoch 13/15\n",
      "118/118 [==============================] - 68s 578ms/step - loss: 0.0044 - acc: 0.9852 - val_loss: 0.0141 - val_acc: 0.9610\n",
      "Epoch 14/15\n",
      "118/118 [==============================] - 58s 496ms/step - loss: 0.0040 - acc: 0.9865 - val_loss: 0.0142 - val_acc: 0.9639\n",
      "Epoch 15/15\n",
      "118/118 [==============================] - 58s 496ms/step - loss: 0.0036 - acc: 0.9877 - val_loss: 0.0152 - val_acc: 0.9599\n"
     ]
    }
   ],
   "source": [
    "BATCH_SIZE = 128\n",
    "history = model.fit(X, y_train, epochs=EPOCHS, batch_size=BATCH_SIZE, validation_data = (X_dev,y_dev))"
   ]
  },
  {
   "cell_type": "markdown",
   "metadata": {},
   "source": [
    "Create a figure to show the training and validation losses and accuracies and comment on a possible overfit."
   ]
  },
  {
   "cell_type": "code",
   "execution_count": 98,
   "metadata": {},
   "outputs": [
    {
     "data": {
      "image/png": "[encoded data removed]",
      "text/plain": [
       "<Figure size 432x288 with 1 Axes>"
      ]
     },
     "metadata": {
      "needs_background": "light"
     },
     "output_type": "display_data"
    },
    {
     "data": {
      "image/png": "[encoded data removed]",
      "text/plain": [
       "<Figure size 432x288 with 1 Axes>"
      ]
     },
     "metadata": {
      "needs_background": "light"
     },
     "output_type": "display_data"
    }
   ],
   "source": [
    "import matplotlib.pyplot as plt\n",
    "\n",
    "model.save('NER_RNN_model.h5')\n",
    "acc = history.history['acc']\n",
    "val_acc = history.history['val_acc']\n",
    "loss = history.history['loss']\n",
    "val_loss = history.history['val_loss']\n",
    "\n",
    "epochs = range(len(acc))\n",
    "\n",
    "plt.plot(epochs, acc, 'bo', label='Training acc')\n",
    "plt.plot(epochs, val_acc, 'b', label='Validation acc')\n",
    "plt.title('Training and validation accuracy')\n",
    "plt.legend()\n",
    "\n",
    "plt.figure()\n",
    "\n",
    "plt.plot(epochs, loss, 'bo', label='Training loss')\n",
    "plt.plot(epochs, val_loss, 'b', label='Validation loss')\n",
    "plt.title('Training and validation loss')\n",
    "plt.legend()\n",
    "\n",
    "plt.show()"
   ]
  },
  {
   "cell_type": "markdown",
   "metadata": {},
   "source": [
    "Apply your network to one sentence."
   ]
  },
  {
   "cell_type": "code",
   "execution_count": 124,
   "metadata": {},
   "outputs": [],
   "source": [
    "sentence = 'The United States might collapsez'.lower().split()"
   ]
  },
  {
   "cell_type": "markdown",
   "metadata": {},
   "source": [
    "First convert the sentence into indices"
   ]
  },
  {
   "cell_type": "code",
   "execution_count": 125,
   "metadata": {},
   "outputs": [
    {
     "data": {
      "text/plain": [
       "array([[359698, 374678, 344404, 246008,      1,      0,      0,      0,\n",
       "             0,      0,      0,      0,      0,      0,      0,      0,\n",
       "             0,      0,      0,      0,      0,      0,      0,      0,\n",
       "             0,      0,      0,      0,      0,      0,      0,      0,\n",
       "             0,      0,      0,      0,      0,      0,      0,      0,\n",
       "             0,      0,      0,      0,      0,      0,      0,      0,\n",
       "             0,      0,      0,      0,      0,      0,      0,      0,\n",
       "             0,      0,      0,      0,      0,      0,      0,      0,\n",
       "             0,      0,      0,      0,      0,      0,      0,      0,\n",
       "             0,      0,      0,      0,      0,      0,      0,      0,\n",
       "             0,      0,      0,      0,      0,      0,      0,      0,\n",
       "             0,      0,      0,      0,      0,      0,      0,      0,\n",
       "             0,      0,      0,      0,      0,      0,      0,      0,\n",
       "             0,      0,      0,      0,      0,      0,      0,      0,\n",
       "             0,      0,      0,      0,      0,      0,      0,      0,\n",
       "             0,      0,      0,      0,      0,      0,      0,      0,\n",
       "             0,      0,      0,      0,      0,      0,      0,      0,\n",
       "             0,      0,      0,      0,      0,      0,      0,      0,\n",
       "             0,      0,      0,      0,      0,      0]], dtype=int32)"
      ]
     },
     "execution_count": 125,
     "metadata": {},
     "output_type": "execute_result"
    }
   ],
   "source": [
    "sentence_idx = [[word2idx[word] if word in word2idx else 1 for word in sentence]]\n",
    "padded_sentence = pad_sequences(sentence_idx, maxlen=150, padding='post')\n",
    "padded_sentence"
   ]
  },
  {
   "cell_type": "markdown",
   "metadata": {},
   "source": [
    "Apply the prediction"
   ]
  },
  {
   "cell_type": "code",
   "execution_count": 128,
   "metadata": {},
   "outputs": [
    {
     "name": "stdout",
     "output_type": "stream",
     "text": [
      "the: O\n",
      "united: B-LOC\n",
      "states: I-LOC\n",
      "might: O\n",
      "collapsez: O\n"
     ]
    }
   ],
   "source": [
    "predicted = model.predict(padded_sentence)\n",
    "predicted = predicted[0][:5]\n",
    "predict_ner_idx = list(map(np.argmax, predicted))\n",
    "for i, idx in enumerate(predict_ner_idx):\n",
    "    print(sentence[i]+': '+idx2ner[idx])\n"
   ]
  },
  {
   "cell_type": "markdown",
   "metadata": {},
   "source": [
    "## Evaluating your System"
   ]
  },
  {
   "cell_type": "markdown",
   "metadata": {},
   "source": [
    "You will now evaluate the performance of your system on the whole test set. You will use the official script.\n",
    "<ol>\n",
    "    <li>Use the <tt>predict</tt> method to predict the tags of the whole test set\n",
    "    </li>\n",
    "    <li>Write your results in a file, where the two last columns will be the hand-annotated tag\n",
    "        and the predicted tag. The fields must be separated by a space and each line must end with a new line:\n",
    "        <tt>\\n</tt>.\n",
    "    </li>\n",
    "    <li>\n",
    "        If you save your results on a Windows machine, Python will use the default end-of-line sequence: <tt>\\r\\n</tt>.\n",
    "        You will then need either to convert your file or to modify the way you save your file.\n",
    "    </li>\n",
    "    <li>Apply <tt>conlleval</tt> to your output. Report the F1 result.<br/>\n",
    "        Be aware that <tt>conlleval</tt> was designed for Unix and will break\n",
    "    with Windows end-of-line conventions.</li>\n",
    "    <li>Try to improve your model by modifying some parameters, adding layers, adding\n",
    "        <tt>Bidirectional</tt>\n",
    "        and <tt>Dropout</tt>.\n",
    "    </li>\n",
    "    <li>\n",
    "        Evaluate your network again\n",
    "    </li>\n",
    "</ol>"
   ]
  },
  {
   "cell_type": "markdown",
   "metadata": {},
   "source": [
    "First translate the input part of the test set, the words, into lists of words, `X_test`, lists of indices, `X_test_idx`, and a matrix of indices, where you will pad the sequences: `X_test_padded`"
   ]
  },
  {
   "cell_type": "code",
   "execution_count": 129,
   "metadata": {},
   "outputs": [
    {
     "name": "stdout",
     "output_type": "stream",
     "text": [
      "X_test: ['soccer', '-', 'japan', 'get', 'lucky', 'win', ',', 'china', 'in', 'surprise', 'defeat', '.']\n",
      "Y_test ['O', 'O', 'B-LOC', 'O', 'O', 'O', 'O', 'B-PER', 'O', 'O', 'O', 'O']\n"
     ]
    }
   ],
   "source": [
    "# Test\n",
    "X_test, Y_test = build_sequences(test_dict, key_x='form', key_y='ner')\n",
    "print('X_test:', X_test[1])\n",
    "print('Y_test', Y_test[1])"
   ]
  },
  {
   "cell_type": "code",
   "execution_count": 130,
   "metadata": {},
   "outputs": [],
   "source": [
    "X_test_idx = [[word2idx[word] if word in word2idx else 1 for word in sentence] for sentence in X_test]\n",
    "X_test_padded = pad_sequences(X_test_idx, maxlen=150, padding='post')"
   ]
  },
  {
   "cell_type": "code",
   "execution_count": 44,
   "metadata": {},
   "outputs": [
    {
     "name": "stdout",
     "output_type": "stream",
     "text": [
      "X_test_idx: [338644, 679, 197600, 162137, 229067, 390518, 517, 100680, 190291, 350949, 120818, 936]\n",
      "X_test_padded: [     0      0      0      0      0      0      0      0      0      0\n",
      "      0      0      0      0      0      0      0      0      0      0\n",
      "      0      0      0      0      0      0      0      0      0      0\n",
      "      0      0      0      0      0      0      0      0      0      0\n",
      "      0      0      0      0      0      0      0      0      0      0\n",
      "      0      0      0      0      0      0      0      0      0      0\n",
      "      0      0      0      0      0      0      0      0      0      0\n",
      "      0      0      0      0      0      0      0      0      0      0\n",
      "      0      0      0      0      0      0      0      0      0      0\n",
      "      0      0      0      0      0      0      0      0      0      0\n",
      "      0      0      0      0      0      0      0      0      0      0\n",
      "      0      0      0      0      0      0      0      0      0      0\n",
      "      0      0      0      0      0      0      0      0      0      0\n",
      "      0      0      0      0      0      0      0      0 338644    679\n",
      " 197600 162137 229067 390518    517 100680 190291 350949 120818    936]\n"
     ]
    }
   ],
   "source": [
    "print('X_test_idx:', X_test_idx[1])\n",
    "print('X_test_padded:', X_test_padded[1])"
   ]
  },
  {
   "cell_type": "code",
   "execution_count": 131,
   "metadata": {},
   "outputs": [
    {
     "data": {
      "text/plain": [
       "(3684, 150)"
      ]
     },
     "execution_count": 131,
     "metadata": {},
     "output_type": "execute_result"
    }
   ],
   "source": [
    "X_test_padded.shape"
   ]
  },
  {
   "cell_type": "markdown",
   "metadata": {},
   "source": [
    "Now predict the whole test set with `predict` and set the results in `Y_test_hat`"
   ]
  },
  {
   "cell_type": "code",
   "execution_count": 132,
   "metadata": {},
   "outputs": [],
   "source": [
    "Y_test_hat = model.predict(X_test_padded)"
   ]
  },
  {
   "cell_type": "code",
   "execution_count": 133,
   "metadata": {},
   "outputs": [
    {
     "name": "stdout",
     "output_type": "stream",
     "text": [
      "X_test ['soccer', '-', 'japan', 'get', 'lucky', 'win', ',', 'china', 'in', 'surprise', 'defeat', '.']\n",
      "X_test_padded [338644    679 197600 162137 229067 390518    517 100680 190291 350949\n",
      " 120818    936      0      0      0      0      0      0      0      0\n",
      "      0      0      0      0      0      0      0      0      0      0\n",
      "      0      0      0      0      0      0      0      0      0      0\n",
      "      0      0      0      0      0      0      0      0      0      0\n",
      "      0      0      0      0      0      0      0      0      0      0\n",
      "      0      0      0      0      0      0      0      0      0      0\n",
      "      0      0      0      0      0      0      0      0      0      0\n",
      "      0      0      0      0      0      0      0      0      0      0\n",
      "      0      0      0      0      0      0      0      0      0      0\n",
      "      0      0      0      0      0      0      0      0      0      0\n",
      "      0      0      0      0      0      0      0      0      0      0\n",
      "      0      0      0      0      0      0      0      0      0      0\n",
      "      0      0      0      0      0      0      0      0      0      0\n",
      "      0      0      0      0      0      0      0      0      0      0]\n",
      "Predictions [[4.36502195e-10 3.43259421e-10 1.04862385e-08 ... 1.24396360e-08\n",
      "  2.66928470e-08 9.99999285e-01]\n",
      " [4.36502195e-10 3.43259421e-10 1.04862385e-08 ... 1.24396360e-08\n",
      "  2.66928470e-08 9.99999285e-01]\n",
      " [4.36502195e-10 3.43259421e-10 1.04862385e-08 ... 1.24396360e-08\n",
      "  2.66928470e-08 9.99999285e-01]\n",
      " ...\n",
      " [4.36502195e-10 3.43259421e-10 1.04862385e-08 ... 1.24396360e-08\n",
      "  2.66928470e-08 9.99999285e-01]\n",
      " [4.36502195e-10 3.43259421e-10 1.04862385e-08 ... 1.24396360e-08\n",
      "  2.66928470e-08 9.99999285e-01]\n",
      " [4.36502195e-10 3.43259421e-10 1.04862385e-08 ... 1.24396360e-08\n",
      "  2.66928470e-08 9.99999285e-01]]\n"
     ]
    }
   ],
   "source": [
    "print('X_test', X_test[1])\n",
    "print('X_test_padded', X_test_padded[1])\n",
    "print('Predictions', Y_test_hat[0])"
   ]
  },
  {
   "cell_type": "markdown",
   "metadata": {},
   "source": [
    "Extract the indices of the highest probabilities from the lists and convert them into NER values. Add them with the `pner` key to the dictionaries in the `test_dict` list."
   ]
  },
  {
   "cell_type": "code",
   "execution_count": 134,
   "metadata": {},
   "outputs": [],
   "source": [
    "sentence_len = [len(sentence) for sentence in X_test]\n",
    "for sent_idx, sentence_pred in enumerate(Y_test_hat):\n",
    "    pred_no_pad = sentence_pred[:sentence_len[sent_idx]]\n",
    "    ner_idx_list = list(map(np.argmax, pred_no_pad))\n",
    "    for word_idx, ner_idx in enumerate(ner_idx_list):\n",
    "        test_dict[sent_idx][word_idx]['pner'] = idx2ner[ner_idx]\n",
    "    \n"
   ]
  },
  {
   "cell_type": "code",
   "execution_count": 135,
   "metadata": {},
   "outputs": [
    {
     "data": {
      "text/plain": [
       "[{'form': 'SOCCER', 'ppos': 'NN', 'pchunk': 'B-NP', 'ner': 'O', 'pner': 'O'},\n",
       " {'form': '-', 'ppos': ':', 'pchunk': 'O', 'ner': 'O', 'pner': 'O'},\n",
       " {'form': 'JAPAN',\n",
       "  'ppos': 'NNP',\n",
       "  'pchunk': 'B-NP',\n",
       "  'ner': 'B-LOC',\n",
       "  'pner': 'B-LOC'},\n",
       " {'form': 'GET', 'ppos': 'VB', 'pchunk': 'B-VP', 'ner': 'O', 'pner': 'O'},\n",
       " {'form': 'LUCKY', 'ppos': 'NNP', 'pchunk': 'B-NP', 'ner': 'O', 'pner': 'O'},\n",
       " {'form': 'WIN', 'ppos': 'NNP', 'pchunk': 'I-NP', 'ner': 'O', 'pner': 'O'},\n",
       " {'form': ',', 'ppos': ',', 'pchunk': 'O', 'ner': 'O', 'pner': 'O'},\n",
       " {'form': 'CHINA',\n",
       "  'ppos': 'NNP',\n",
       "  'pchunk': 'B-NP',\n",
       "  'ner': 'B-PER',\n",
       "  'pner': 'B-LOC'},\n",
       " {'form': 'IN', 'ppos': 'IN', 'pchunk': 'B-PP', 'ner': 'O', 'pner': 'O'},\n",
       " {'form': 'SURPRISE', 'ppos': 'DT', 'pchunk': 'B-NP', 'ner': 'O', 'pner': 'O'},\n",
       " {'form': 'DEFEAT', 'ppos': 'NN', 'pchunk': 'I-NP', 'ner': 'O', 'pner': 'O'},\n",
       " {'form': '.', 'ppos': '.', 'pchunk': 'O', 'ner': 'O', 'pner': 'O'}]"
      ]
     },
     "execution_count": 135,
     "metadata": {},
     "output_type": "execute_result"
    }
   ],
   "source": [
    "test_dict[1]"
   ]
  },
  {
   "cell_type": "code",
   "execution_count": 136,
   "metadata": {},
   "outputs": [],
   "source": [
    "ARCH = '1'\n",
    "outfile = 'test' + ARCH + '.out'"
   ]
  },
  {
   "cell_type": "code",
   "execution_count": 137,
   "metadata": {},
   "outputs": [],
   "source": [
    "column_names = ['form', 'ppos', 'pchunk', 'ner', 'pner']"
   ]
  },
  {
   "cell_type": "code",
   "execution_count": 138,
   "metadata": {},
   "outputs": [],
   "source": [
    "def save(file, corpus_dict, column_names):\n",
    "    \"\"\"\n",
    "    Saves the corpus in a file\n",
    "    :param file:\n",
    "    :param corpus_dict:\n",
    "    :param column_names:\n",
    "    :return:\n",
    "    \"\"\"\n",
    "    i = 0\n",
    "    with open(file, 'w', encoding='utf8') as f_out:\n",
    "        i += 1\n",
    "        for sentence in corpus_dict:\n",
    "            sentence_lst = []\n",
    "            for row in sentence:\n",
    "                items = map(lambda x: row.get(x, '_'), column_names)\n",
    "                sentence_lst += ' '.join(items) + '\\n'\n",
    "            sentence_lst += '\\n'\n",
    "            f_out.write(''.join(sentence_lst))"
   ]
  },
  {
   "cell_type": "code",
   "execution_count": 140,
   "metadata": {},
   "outputs": [
    {
     "data": {
      "text/plain": [
       "0.7113707560748456"
      ]
     },
     "execution_count": 140,
     "metadata": {},
     "output_type": "execute_result"
    }
   ],
   "source": [
    "save(outfile, test_dict, column_names)\n",
    "lines = open(outfile, encoding='utf8').read().splitlines()\n",
    "res = conlleval.evaluate(lines)\n",
    "baseline_score = res['overall']['chunks']['evals']['f1']\n",
    "baseline_score"
   ]
  },
  {
   "cell_type": "markdown",
   "metadata": {},
   "source": [
    "## Building a LSTM Network"
   ]
  },
  {
   "cell_type": "markdown",
   "metadata": {},
   "source": [
    "1. Create a simple LSTM network and train a model with the train set. As layers, you will use <tt>Embedding</tt>, <tt>LSTM</tt>, and <tt>Dense</tt>.\n",
    "2. Apply conlleval to your output. Report the F1 result.\n",
    "3. Try to improve your model by modifying some parameters, adding layers, adding <tt>Bidirectional</tt>, <tt>Dropout</tt>, possibly mixing <tt>SimpleRNN</tt>.\n",
    "4. Apply your network to the test set and report the accuracy you obtained. you need to reach a F1 of 82 to pass."
   ]
  },
  {
   "cell_type": "code",
   "execution_count": 148,
   "metadata": {},
   "outputs": [],
   "source": [
    "model = models.Sequential()\n",
    "model.add(layers.Embedding(len(vocabulary_words) + 2,\n",
    "                           EMBEDDING_DIM,\n",
    "                           mask_zero=True,\n",
    "                           input_length=None))\n",
    "model.layers[0].set_weights([embedding_matrix])\n",
    "model.add(layers.Dropout(0.2))\n",
    "model.add(Bidirectional(LSTM(100, return_sequences=True)))\n",
    "model.add(layers.Dropout(0.2))\n",
    "model.add(Dense(len(ner) + 2, activation='softmax'))\n",
    "\n"
   ]
  },
  {
   "cell_type": "markdown",
   "metadata": {},
   "source": [
    "Compile and fit it"
   ]
  },
  {
   "cell_type": "code",
   "execution_count": 149,
   "metadata": {},
   "outputs": [
    {
     "name": "stdout",
     "output_type": "stream",
     "text": [
      "Model: \"sequential_5\"\n",
      "_________________________________________________________________\n",
      "Layer (type)                 Output Shape              Param #   \n",
      "=================================================================\n",
      "embedding_6 (Embedding)      (None, None, 100)         40259700  \n",
      "_________________________________________________________________\n",
      "dropout_2 (Dropout)          (None, None, 100)         0         \n",
      "_________________________________________________________________\n",
      "bidirectional_2 (Bidirection (None, None, 200)         160800    \n",
      "_________________________________________________________________\n",
      "dropout_3 (Dropout)          (None, None, 200)         0         \n",
      "_________________________________________________________________\n",
      "dense_5 (Dense)              (None, None, 11)          2211      \n",
      "=================================================================\n",
      "Total params: 40,422,711\n",
      "Trainable params: 40,422,711\n",
      "Non-trainable params: 0\n",
      "_________________________________________________________________\n",
      "Epoch 1/15\n",
      "118/118 [==============================] - 162s 1s/step - loss: 0.0442 - acc: 0.8696 - val_loss: 0.0280 - val_acc: 0.9214\n",
      "Epoch 2/15\n",
      "118/118 [==============================] - 147s 1s/step - loss: 0.0205 - acc: 0.9349 - val_loss: 0.0180 - val_acc: 0.9501\n",
      "Epoch 3/15\n",
      "118/118 [==============================] - 135s 1s/step - loss: 0.0148 - acc: 0.9526 - val_loss: 0.0149 - val_acc: 0.9581\n",
      "Epoch 4/15\n",
      "118/118 [==============================] - 140s 1s/step - loss: 0.0121 - acc: 0.9605 - val_loss: 0.0131 - val_acc: 0.9639\n",
      "Epoch 5/15\n",
      "118/118 [==============================] - 142s 1s/step - loss: 0.0103 - acc: 0.9665 - val_loss: 0.0120 - val_acc: 0.9675\n",
      "Epoch 6/15\n",
      "118/118 [==============================] - 159s 1s/step - loss: 0.0090 - acc: 0.9706 - val_loss: 0.0109 - val_acc: 0.9682\n",
      "Epoch 7/15\n",
      "118/118 [==============================] - 135s 1s/step - loss: 0.0080 - acc: 0.9737 - val_loss: 0.0104 - val_acc: 0.9712\n",
      "Epoch 8/15\n",
      "118/118 [==============================] - 132s 1s/step - loss: 0.0072 - acc: 0.9763 - val_loss: 0.0108 - val_acc: 0.9713\n",
      "Epoch 9/15\n",
      "118/118 [==============================] - 137s 1s/step - loss: 0.0064 - acc: 0.9786 - val_loss: 0.0093 - val_acc: 0.9724\n",
      "Epoch 10/15\n",
      "118/118 [==============================] - 137s 1s/step - loss: 0.0058 - acc: 0.9803 - val_loss: 0.0107 - val_acc: 0.9724\n",
      "Epoch 11/15\n",
      "118/118 [==============================] - 141s 1s/step - loss: 0.0054 - acc: 0.9820 - val_loss: 0.0090 - val_acc: 0.9730\n",
      "Epoch 12/15\n",
      "118/118 [==============================] - 133s 1s/step - loss: 0.0049 - acc: 0.9832 - val_loss: 0.0088 - val_acc: 0.9748\n",
      "Epoch 13/15\n",
      "118/118 [==============================] - 133s 1s/step - loss: 0.0045 - acc: 0.9845 - val_loss: 0.0094 - val_acc: 0.9747\n",
      "Epoch 14/15\n",
      "118/118 [==============================] - 135s 1s/step - loss: 0.0042 - acc: 0.9860 - val_loss: 0.0091 - val_acc: 0.9753\n",
      "Epoch 15/15\n",
      "118/118 [==============================] - 143s 1s/step - loss: 0.0038 - acc: 0.9871 - val_loss: 0.0086 - val_acc: 0.9759\n"
     ]
    }
   ],
   "source": [
    "model.compile(loss='categorical_crossentropy',\n",
    "              optimizer='rmsprop',\n",
    "              metrics=['acc'])\n",
    "model.summary()\n",
    "BATCH_SIZE = 128\n",
    "history = model.fit(X, y_train, epochs=EPOCHS, batch_size=BATCH_SIZE, validation_data = (X_dev,y_dev))\n",
    "model.save('NER_LSTM_model.h5')"
   ]
  },
  {
   "cell_type": "markdown",
   "metadata": {},
   "source": [
    "Create a figure to show the training and validation losses and accuracies and comment on a possible overfit."
   ]
  },
  {
   "cell_type": "code",
   "execution_count": 150,
   "metadata": {},
   "outputs": [
    {
     "data": {
      "image/png": "[encoded data removed]",
      "text/plain": [
       "<Figure size 432x288 with 1 Axes>"
      ]
     },
     "metadata": {
      "needs_background": "light"
     },
     "output_type": "display_data"
    },
    {
     "data": {
      "image/png": "[encoded data removed]",
      "text/plain": [
       "<Figure size 432x288 with 1 Axes>"
      ]
     },
     "metadata": {
      "needs_background": "light"
     },
     "output_type": "display_data"
    }
   ],
   "source": [
    "import matplotlib.pyplot as plt\n",
    "\n",
    "acc = history.history['acc']\n",
    "val_acc = history.history['val_acc']\n",
    "loss = history.history['loss']\n",
    "val_loss = history.history['val_loss']\n",
    "\n",
    "epochs = range(len(acc))\n",
    "\n",
    "plt.plot(epochs, acc, 'bo', label='Training acc')\n",
    "plt.plot(epochs, val_acc, 'b', label='Validation acc')\n",
    "plt.title('Training and validation accuracy')\n",
    "plt.legend()\n",
    "\n",
    "plt.figure()\n",
    "\n",
    "plt.plot(epochs, loss, 'bo', label='Training loss')\n",
    "plt.plot(epochs, val_loss, 'b', label='Validation loss')\n",
    "plt.title('Training and validation loss')\n",
    "plt.legend()\n",
    "\n",
    "plt.show()\n"
   ]
  },
  {
   "cell_type": "markdown",
   "metadata": {},
   "source": [
    "Predict the NER sequence"
   ]
  },
  {
   "cell_type": "code",
   "execution_count": 151,
   "metadata": {},
   "outputs": [],
   "source": [
    "Y_test_hat = model.predict(X_test_padded)"
   ]
  },
  {
   "cell_type": "markdown",
   "metadata": {},
   "source": [
    "Extract the indices of the highest probabilities from the lists and convert them into NER values. Add them with the `pner` key to the dictionaries in the `test_dict` list."
   ]
  },
  {
   "cell_type": "code",
   "execution_count": 152,
   "metadata": {},
   "outputs": [],
   "source": [
    "sentence_len = [len(sentence) for sentence in X_test]\n",
    "for sent_idx, sentence_pred in enumerate(Y_test_hat):\n",
    "    pred_no_pad = sentence_pred[:sentence_len[sent_idx]]\n",
    "    ner_idx_list = list(map(np.argmax, pred_no_pad))\n",
    "    for word_idx, ner_idx in enumerate(ner_idx_list):\n",
    "        test_dict[sent_idx][word_idx]['pner'] = idx2ner[ner_idx]\n",
    "    "
   ]
  },
  {
   "cell_type": "code",
   "execution_count": 153,
   "metadata": {},
   "outputs": [],
   "source": [
    "ARCH = '4'\n",
    "outfile = 'test' + ARCH + '.out'"
   ]
  },
  {
   "cell_type": "code",
   "execution_count": 154,
   "metadata": {},
   "outputs": [],
   "source": [
    "save(outfile, test_dict, column_names)"
   ]
  },
  {
   "cell_type": "code",
   "execution_count": 155,
   "metadata": {},
   "outputs": [
    {
     "data": {
      "text/plain": [
       "0.8343904157857646"
      ]
     },
     "execution_count": 155,
     "metadata": {},
     "output_type": "execute_result"
    }
   ],
   "source": [
    "lines = open(outfile, encoding='utf8').read().splitlines()\n",
    "res = conlleval.evaluate(lines)\n",
    "improved_score = res['overall']['chunks']['evals']['f1']\n",
    "improved_score"
   ]
  },
  {
   "cell_type": "markdown",
   "metadata": {},
   "source": [
    "You need to reach 82 to pass the assignment."
   ]
  },
  {
   "cell_type": "code",
   "execution_count": null,
   "metadata": {},
   "outputs": [],
   "source": []
  }
 ],
 "metadata": {
  "kernelspec": {
   "display_name": "Python 3",
   "language": "python",
   "name": "python3"
  },
  "language_info": {
   "codemirror_mode": {
    "name": "ipython",
    "version": 3
   },
   "file_extension": ".py",
   "mimetype": "text/x-python",
   "name": "python",
   "nbconvert_exporter": "python",
   "pygments_lexer": "ipython3",
   "version": "3.7.4"
  }
 },
 "nbformat": 4,
 "nbformat_minor": 4
}
