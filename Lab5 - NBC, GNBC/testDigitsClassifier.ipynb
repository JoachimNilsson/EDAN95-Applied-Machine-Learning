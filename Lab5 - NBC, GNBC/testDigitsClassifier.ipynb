{
 "cells": [
  {
   "cell_type": "code",
   "execution_count": 7,
   "metadata": {},
   "outputs": [],
   "source": [
    "from sklearn import datasets, svm, metrics\n",
    "import matplotlib.pyplot as plt\n",
    "import numpy as np\n",
    "from NBC import NaiveBayesianClassifier\n",
    "from GNB import GaussianNaiveBayesianClassifier\n",
    "from NCC import NearestCentroidClassifier\n",
    "from MNIST import MNISTData\n",
    "from sklearn.naive_bayes import GaussianNB\n",
    "from sklearn.neighbors import NearestCentroid\n"
   ]
  },
  {
   "cell_type": "code",
   "execution_count": 8,
   "metadata": {},
   "outputs": [
    {
     "data": {
      "text/plain": [
       "array([ 0.,  1.,  2.,  3.,  4.,  5.,  6.,  7.,  8.,  9., 10., 11., 12.,\n",
       "       13., 14., 15., 16.])"
      ]
     },
     "execution_count": 8,
     "metadata": {},
     "output_type": "execute_result"
    }
   ],
   "source": [
    "digits = datasets.load_digits()\n",
    "from sklearn.model_selection import train_test_split\n",
    "train_features, test_features, train_labels, test_labels = train_test_split(digits.data, digits.target, test_size=0.3, random_state=0)\n",
    "np.unique(train_features)"
   ]
  },
  {
   "cell_type": "code",
   "execution_count": 9,
   "metadata": {},
   "outputs": [
    {
     "name": "stdout",
     "output_type": "stream",
     "text": [
      "Classification report SKLearn GNB:\n",
      "              precision    recall  f1-score   support\n",
      "\n",
      "           0       1.00      1.00      1.00        45\n",
      "           1       0.74      0.88      0.81        52\n",
      "           2       0.96      0.49      0.65        53\n",
      "           3       0.66      0.85      0.74        54\n",
      "           4       0.95      0.75      0.84        48\n",
      "           5       0.98      0.89      0.94        57\n",
      "           6       0.95      0.98      0.97        60\n",
      "           7       0.79      0.98      0.87        53\n",
      "           8       0.61      0.84      0.70        61\n",
      "           9       0.97      0.58      0.73        57\n",
      "\n",
      "    accuracy                           0.82       540\n",
      "   macro avg       0.86      0.83      0.82       540\n",
      "weighted avg       0.86      0.82      0.82       540\n",
      "\n",
      "\n",
      "Confusion matrix SKLearn GNB:\n",
      "[[45  0  0  0  0  0  0  0  0  0]\n",
      " [ 0 46  0  0  0  0  0  0  6  0]\n",
      " [ 0  6 26  5  0  0  0  0 16  0]\n",
      " [ 0  0  0 46  0  0  0  1  6  1]\n",
      " [ 0  3  0  0 36  0  2  7  0  0]\n",
      " [ 0  1  0  2  0 51  1  2  0  0]\n",
      " [ 0  0  1  0  0  0 59  0  0  0]\n",
      " [ 0  0  0  0  1  0  0 52  0  0]\n",
      " [ 0  5  0  3  0  1  0  1 51  0]\n",
      " [ 0  1  0 14  1  0  0  3  5 33]]\n"
     ]
    }
   ],
   "source": [
    "gnb_scikit = GaussianNB()\n",
    "gnb_scikit.fit(train_features, train_labels)\n",
    "y_pred = gnb_scikit.predict(test_features)\n",
    "print(\"Classification report SKLearn GNB:\\n%s\\n\"\n",
    "  % (metrics.classification_report(test_labels, y_pred)))\n",
    "print(\"Confusion matrix SKLearn GNB:\\n%s\" % metrics.confusion_matrix(test_labels, y_pred))"
   ]
  },
  {
   "cell_type": "code",
   "execution_count": 10,
   "metadata": {},
   "outputs": [
    {
     "name": "stdout",
     "output_type": "stream",
     "text": [
      "Classification report implemented NCC:\n",
      "              precision    recall  f1-score   support\n",
      "\n",
      "           0       0.98      1.00      0.99        45\n",
      "           1       0.86      0.81      0.83        52\n",
      "           2       0.96      0.83      0.89        53\n",
      "           3       0.92      0.81      0.86        54\n",
      "           4       1.00      0.92      0.96        48\n",
      "           5       0.94      0.82      0.88        57\n",
      "           6       0.97      0.98      0.98        60\n",
      "           7       0.84      0.98      0.90        53\n",
      "           8       0.93      0.84      0.88        61\n",
      "           9       0.68      0.95      0.79        57\n",
      "\n",
      "    accuracy                           0.89       540\n",
      "   macro avg       0.91      0.89      0.90       540\n",
      "weighted avg       0.90      0.89      0.89       540\n",
      "\n",
      "\n",
      "Confusion matrix implemented NCC:\n",
      "[[45  0  0  0  0  0  0  0  0  0]\n",
      " [ 0 42  1  0  0  1  1  0  1  6]\n",
      " [ 1  2 44  3  0  0  0  2  0  1]\n",
      " [ 0  0  1 44  0  0  0  2  2  5]\n",
      " [ 0  1  0  0 44  0  0  3  0  0]\n",
      " [ 0  0  0  0  0 47  1  0  0  9]\n",
      " [ 0  1  0  0  0  0 59  0  0  0]\n",
      " [ 0  0  0  0  0  0  0 52  1  0]\n",
      " [ 0  3  0  1  0  1  0  1 51  4]\n",
      " [ 0  0  0  0  0  1  0  2  0 54]]\n"
     ]
    }
   ],
   "source": [
    "ncc = NearestCentroidClassifier()\n",
    "ncc.fit(train_features, train_labels)\n",
    "y_pred = ncc.predict(test_features)\n",
    "print(\"Classification report implemented NCC:\\n%s\\n\"\n",
    "  % (metrics.classification_report(test_labels, y_pred)))\n",
    "print(\"Confusion matrix implemented NCC:\\n%s\" % metrics.confusion_matrix(test_labels, y_pred))"
   ]
  },
  {
   "cell_type": "code",
   "execution_count": 11,
   "metadata": {},
   "outputs": [
    {
     "name": "stdout",
     "output_type": "stream",
     "text": [
      "Classification report implemented NBC:\n",
      "              precision    recall  f1-score   support\n",
      "\n",
      "           0       1.00      0.98      0.99        45\n",
      "           1       0.87      0.88      0.88        52\n",
      "           2       0.96      0.87      0.91        53\n",
      "           3       0.85      0.81      0.83        54\n",
      "           4       0.92      0.94      0.93        48\n",
      "           5       0.94      0.82      0.88        57\n",
      "           6       0.97      0.97      0.97        60\n",
      "           7       0.85      0.98      0.91        53\n",
      "           8       0.93      0.82      0.87        61\n",
      "           9       0.74      0.89      0.81        57\n",
      "\n",
      "    accuracy                           0.89       540\n",
      "   macro avg       0.90      0.90      0.90       540\n",
      "weighted avg       0.90      0.89      0.90       540\n",
      "\n",
      "\n",
      "Confusion matrix implemented NBC:\n",
      "[[44  0  0  0  1  0  0  0  0  0]\n",
      " [ 0 46  1  0  0  1  1  0  0  3]\n",
      " [ 0  2 46  2  0  0  0  1  1  1]\n",
      " [ 0  0  1 44  0  0  0  1  1  7]\n",
      " [ 0  0  0  0 45  0  0  3  0  0]\n",
      " [ 0  0  0  3  1 47  1  0  0  5]\n",
      " [ 0  1  0  0  0  0 58  0  1  0]\n",
      " [ 0  0  0  0  1  0  0 52  0  0]\n",
      " [ 0  4  0  3  0  1  0  1 50  2]\n",
      " [ 0  0  0  0  1  1  0  3  1 51]]\n"
     ]
    }
   ],
   "source": [
    "nbc = NaiveBayesianClassifier()\n",
    "nbc.fit(train_features, train_labels)\n",
    "y_pred = nbc.predict(test_features)\n",
    "print(\"Classification report implemented NBC:\\n%s\\n\"\n",
    "      % (metrics.classification_report(test_labels, y_pred)))\n",
    "print(\"Confusion matrix implemented NBC:\\n%s\" % metrics.confusion_matrix(test_labels, y_pred))"
   ]
  },
  {
   "cell_type": "code",
   "execution_count": 12,
   "metadata": {},
   "outputs": [
    {
     "name": "stdout",
     "output_type": "stream",
     "text": [
      "Classification report implemented GNB:\n",
      "              precision    recall  f1-score   support\n",
      "\n",
      "           0       0.98      1.00      0.99        45\n",
      "           1       0.84      0.83      0.83        52\n",
      "           2       0.95      0.72      0.82        53\n",
      "           3       0.77      0.81      0.79        54\n",
      "           4       0.94      0.96      0.95        48\n",
      "           5       0.98      0.89      0.94        57\n",
      "           6       0.98      0.98      0.98        60\n",
      "           7       0.85      0.96      0.90        53\n",
      "           8       0.70      0.87      0.77        61\n",
      "           9       0.88      0.75      0.81        57\n",
      "\n",
      "    accuracy                           0.88       540\n",
      "   macro avg       0.89      0.88      0.88       540\n",
      "weighted avg       0.88      0.88      0.88       540\n",
      "\n",
      "\n",
      "Confusion matrix implemented GNB:\n",
      "[[45  0  0  0  0  0  0  0  0  0]\n",
      " [ 1 43  0  0  0  0  0  0  6  2]\n",
      " [ 0  5 38  2  0  0  0  0  8  0]\n",
      " [ 0  0  1 44  0  0  0  1  5  3]\n",
      " [ 0  0  0  0 46  0  0  2  0  0]\n",
      " [ 0  0  0  1  0 51  1  2  1  1]\n",
      " [ 0  0  1  0  0  0 59  0  0  0]\n",
      " [ 0  0  0  0  2  0  0 51  0  0]\n",
      " [ 0  3  0  3  0  1  0  1 53  0]\n",
      " [ 0  0  0  7  1  0  0  3  3 43]]\n"
     ]
    }
   ],
   "source": [
    "gnb = GaussianNaiveBayesianClassifier()\n",
    "gnb.fit(train_features, train_labels)\n",
    "y_pred = gnb.predict(test_features)\n",
    "print(\"Classification report implemented GNB:\\n%s\\n\"\n",
    "      % (metrics.classification_report(test_labels, y_pred)))\n",
    "print(\"Confusion matrix implemented GNB:\\n%s\" % metrics.confusion_matrix(test_labels, y_pred))"
   ]
  },
  {
   "cell_type": "code",
   "execution_count": 7,
   "metadata": {},
   "outputs": [],
   "source": [
    "bins = np.array([4,10])\n",
    "train_features_mod = np.digitize(train_features,bins,right=True)\n",
    "test_features_mod = np.digitize(test_features,bins,right=True)"
   ]
  },
  {
   "cell_type": "code",
   "execution_count": 8,
   "metadata": {},
   "outputs": [
    {
     "name": "stdout",
     "output_type": "stream",
     "text": [
      "Classification report SKLearn GNB:\n",
      "              precision    recall  f1-score   support\n",
      "\n",
      "           0       0.98      1.00      0.99        45\n",
      "           1       0.94      0.60      0.73        52\n",
      "           2       1.00      0.72      0.84        53\n",
      "           3       1.00      0.35      0.52        54\n",
      "           4       0.95      0.88      0.91        48\n",
      "           5       0.98      0.70      0.82        57\n",
      "           6       0.89      0.97      0.93        60\n",
      "           7       0.84      0.96      0.89        53\n",
      "           8       0.50      1.00      0.67        61\n",
      "           9       0.68      0.84      0.75        57\n",
      "\n",
      "    accuracy                           0.80       540\n",
      "   macro avg       0.88      0.80      0.80       540\n",
      "weighted avg       0.87      0.80      0.80       540\n",
      "\n",
      "\n",
      "Confusion matrix SKLearn GNB:\n",
      "[[45  0  0  0  0  0  0  0  0  0]\n",
      " [ 0 31  0  0  1  1  2  0 13  4]\n",
      " [ 1  1 38  0  0  0  0  0 12  1]\n",
      " [ 0  0  0 19  0  0  0  1 20 14]\n",
      " [ 0  0  0  0 42  0  3  3  0  0]\n",
      " [ 0  0  0  0  0 40  2  3  9  3]\n",
      " [ 0  1  0  0  0  0 58  0  0  1]\n",
      " [ 0  0  0  0  1  0  0 51  1  0]\n",
      " [ 0  0  0  0  0  0  0  0 61  0]\n",
      " [ 0  0  0  0  0  0  0  3  6 48]]\n"
     ]
    }
   ],
   "source": [
    "gnb_scikit = GaussianNB()\n",
    "gnb_scikit.fit(train_features_mod, train_labels)\n",
    "y_pred = gnb_scikit.predict(test_features_mod)\n",
    "print(\"Classification report SKLearn GNB:\\n%s\\n\"\n",
    "  % (metrics.classification_report(test_labels, y_pred)))\n",
    "print(\"Confusion matrix SKLearn GNB:\\n%s\" % metrics.confusion_matrix(test_labels, y_pred))"
   ]
  },
  {
   "cell_type": "code",
   "execution_count": 9,
   "metadata": {},
   "outputs": [
    {
     "name": "stdout",
     "output_type": "stream",
     "text": [
      "Classification report implemented NCC:\n",
      "              precision    recall  f1-score   support\n",
      "\n",
      "           0       0.98      1.00      0.99        45\n",
      "           1       0.78      0.77      0.78        52\n",
      "           2       0.91      0.79      0.85        53\n",
      "           3       0.90      0.80      0.84        54\n",
      "           4       0.98      0.92      0.95        48\n",
      "           5       0.94      0.82      0.88        57\n",
      "           6       0.94      0.98      0.96        60\n",
      "           7       0.86      0.92      0.89        53\n",
      "           8       0.93      0.82      0.87        61\n",
      "           9       0.66      0.93      0.77        57\n",
      "\n",
      "    accuracy                           0.87       540\n",
      "   macro avg       0.89      0.88      0.88       540\n",
      "weighted avg       0.89      0.87      0.88       540\n",
      "\n",
      "\n",
      "Confusion matrix implemented NCC:\n",
      "[[45  0  0  0  0  0  0  0  0  0]\n",
      " [ 0 40  2  0  0  1  2  0  1  6]\n",
      " [ 1  5 42  3  0  0  0  1  0  1]\n",
      " [ 0  0  1 43  0  0  0  2  2  6]\n",
      " [ 0  1  0  0 44  0  0  3  0  0]\n",
      " [ 0  0  0  0  0 47  2  0  0  8]\n",
      " [ 0  1  0  0  0  0 59  0  0  0]\n",
      " [ 0  1  1  0  1  0  0 49  1  0]\n",
      " [ 0  3  0  1  0  1  0  0 50  6]\n",
      " [ 0  0  0  1  0  1  0  2  0 53]]\n"
     ]
    }
   ],
   "source": [
    "ncc = NearestCentroidClassifier()\n",
    "ncc.fit(train_features_mod, train_labels)\n",
    "y_pred = ncc.predict(test_features_mod)\n",
    "print(\"Classification report implemented NCC:\\n%s\\n\"\n",
    "  % (metrics.classification_report(test_labels, y_pred)))\n",
    "print(\"Confusion matrix implemented NCC:\\n%s\" % metrics.confusion_matrix(test_labels, y_pred))"
   ]
  },
  {
   "cell_type": "code",
   "execution_count": 10,
   "metadata": {},
   "outputs": [
    {
     "name": "stdout",
     "output_type": "stream",
     "text": [
      "Classification report implemented NBC:\n",
      "              precision    recall  f1-score   support\n",
      "\n",
      "           0       0.98      1.00      0.99        45\n",
      "           1       0.79      0.87      0.83        52\n",
      "           2       0.96      0.83      0.89        53\n",
      "           3       0.90      0.81      0.85        54\n",
      "           4       0.98      0.92      0.95        48\n",
      "           5       0.95      0.91      0.93        57\n",
      "           6       0.97      0.98      0.98        60\n",
      "           7       0.87      0.98      0.92        53\n",
      "           8       0.91      0.80      0.85        61\n",
      "           9       0.78      0.91      0.84        57\n",
      "\n",
      "    accuracy                           0.90       540\n",
      "   macro avg       0.91      0.90      0.90       540\n",
      "weighted avg       0.90      0.90      0.90       540\n",
      "\n",
      "\n",
      "Confusion matrix implemented NBC:\n",
      "[[45  0  0  0  0  0  0  0  0  0]\n",
      " [ 0 45  0  0  0  1  1  0  2  3]\n",
      " [ 1  5 44  1  0  0  0  1  0  1]\n",
      " [ 0  0  1 44  0  0  0  2  2  5]\n",
      " [ 0  1  0  0 44  0  0  3  0  0]\n",
      " [ 0  0  0  0  1 52  1  0  0  3]\n",
      " [ 0  1  0  0  0  0 59  0  0  0]\n",
      " [ 0  0  0  0  0  0  0 52  1  0]\n",
      " [ 0  5  1  2  0  1  0  0 49  3]\n",
      " [ 0  0  0  2  0  1  0  2  0 52]]\n"
     ]
    }
   ],
   "source": [
    "nbc = NaiveBayesianClassifier()\n",
    "nbc.fit(train_features_mod, train_labels)\n",
    "y_pred = nbc.predict(test_features_mod)\n",
    "print(\"Classification report implemented NBC:\\n%s\\n\"\n",
    "      % (metrics.classification_report(test_labels, y_pred)))\n",
    "print(\"Confusion matrix implemented NBC:\\n%s\" % metrics.confusion_matrix(test_labels, y_pred))"
   ]
  },
  {
   "cell_type": "code",
   "execution_count": 11,
   "metadata": {},
   "outputs": [
    {
     "name": "stdout",
     "output_type": "stream",
     "text": [
      "Classification report implemented GNB:\n",
      "              precision    recall  f1-score   support\n",
      "\n",
      "           0       0.98      1.00      0.99        45\n",
      "           1       0.91      0.75      0.82        52\n",
      "           2       0.98      0.85      0.91        53\n",
      "           3       0.97      0.70      0.82        54\n",
      "           4       0.96      0.92      0.94        48\n",
      "           5       0.98      0.86      0.92        57\n",
      "           6       0.95      0.97      0.96        60\n",
      "           7       0.84      0.98      0.90        53\n",
      "           8       0.75      0.97      0.84        61\n",
      "           9       0.75      0.89      0.82        57\n",
      "\n",
      "    accuracy                           0.89       540\n",
      "   macro avg       0.91      0.89      0.89       540\n",
      "weighted avg       0.90      0.89      0.89       540\n",
      "\n",
      "\n",
      "Confusion matrix implemented GNB:\n",
      "[[45  0  0  0  0  0  0  0  0  0]\n",
      " [ 0 39  0  0  1  1  1  1  4  5]\n",
      " [ 1  1 45  0  0  0  0  0  5  1]\n",
      " [ 0  0  0 38  0  0  0  1  6  9]\n",
      " [ 0  0  0  0 44  0  1  3  0  0]\n",
      " [ 0  0  0  1  0 49  1  2  3  1]\n",
      " [ 0  1  0  0  0  0 58  0  0  1]\n",
      " [ 0  0  0  0  1  0  0 52  0  0]\n",
      " [ 0  2  0  0  0  0  0  0 59  0]\n",
      " [ 0  0  1  0  0  0  0  3  2 51]]\n"
     ]
    }
   ],
   "source": [
    "gnb = GaussianNaiveBayesianClassifier()\n",
    "gnb.fit(train_features_mod, train_labels)\n",
    "y_pred = gnb.predict(test_features_mod)\n",
    "print(\"Classification report implemented GNB:\\n%s\\n\"\n",
    "      % (metrics.classification_report(test_labels, y_pred)))\n",
    "print(\"Confusion matrix implemented GNB:\\n%s\" % metrics.confusion_matrix(test_labels, y_pred))"
   ]
  },
  {
   "cell_type": "code",
   "execution_count": 12,
   "metadata": {},
   "outputs": [
    {
     "data": {
      "image/png": "[encoded data removed]",
      "text/plain": [
       "<Figure size 432x288 with 80 Axes>"
      ]
     },
     "metadata": {
      "needs_background": "light"
     },
     "output_type": "display_data"
    }
   ],
   "source": [
    "mnist = MNISTData('MNIST_Light/*/*.png')\n",
    "\n",
    "train_features_mnist, test_features_mnist, train_labels_mnist, test_labels_mnist = mnist.get_data()\n",
    "\n",
    "mnist.visualize_random()"
   ]
  },
  {
   "cell_type": "code",
   "execution_count": null,
   "metadata": {},
   "outputs": [],
   "source": []
  },
  {
   "cell_type": "code",
   "execution_count": 13,
   "metadata": {},
   "outputs": [
    {
     "name": "stdout",
     "output_type": "stream",
     "text": [
      "Classification report SKLearn GNB:\n",
      "              precision    recall  f1-score   support\n",
      "\n",
      "           0       0.54      0.94      0.69       164\n",
      "           1       0.71      0.94      0.81       152\n",
      "           2       0.83      0.50      0.62       155\n",
      "           3       0.83      0.53      0.65       154\n",
      "           4       0.75      0.31      0.44       143\n",
      "           5       0.67      0.16      0.25       141\n",
      "           6       0.81      0.85      0.83       143\n",
      "           7       0.83      0.82      0.83       158\n",
      "           8       0.41      0.64      0.50       132\n",
      "           9       0.60      0.84      0.70       158\n",
      "\n",
      "    accuracy                           0.66      1500\n",
      "   macro avg       0.70      0.65      0.63      1500\n",
      "weighted avg       0.70      0.66      0.64      1500\n",
      "\n",
      "\n",
      "Confusion matrix SKLearn GNB:\n",
      "[[154   0   6   0   1   1   0   0   1   1]\n",
      " [  1 143   1   0   0   1   0   1   3   2]\n",
      " [ 11   6  77  10   2   1  19   1  27   1]\n",
      " [ 32  11   5  82   0   0   2   3  12   7]\n",
      " [ 10   1   2   2  45   2   6   9  24  42]\n",
      " [ 55   7   0   2   2  22   1   0  47   5]\n",
      " [ 10   7   0   0   0   2 122   0   2   0]\n",
      " [  2   1   1   2   3   0   0 130   3  16]\n",
      " [  5  23   1   1   0   4   1   0  84  13]\n",
      " [  3   1   0   0   7   0   0  12   2 133]]\n"
     ]
    }
   ],
   "source": [
    "gnb_scikit = GaussianNB()\n",
    "gnb_scikit.fit(train_features_mnist, train_labels_mnist)\n",
    "y_pred = gnb_scikit.predict(test_features_mnist)\n",
    "print(\"Classification report SKLearn GNB:\\n%s\\n\"\n",
    "  % (metrics.classification_report(test_labels_mnist, y_pred)))\n",
    "print(\"Confusion matrix SKLearn GNB:\\n%s\" % metrics.confusion_matrix(test_labels_mnist, y_pred))"
   ]
  },
  {
   "cell_type": "code",
   "execution_count": 14,
   "metadata": {},
   "outputs": [
    {
     "name": "stdout",
     "output_type": "stream",
     "text": [
      "Classification report implemented NCC:\n",
      "              precision    recall  f1-score   support\n",
      "\n",
      "           0       0.91      0.91      0.91       164\n",
      "           1       0.71      0.97      0.82       152\n",
      "           2       0.84      0.73      0.78       155\n",
      "           3       0.74      0.76      0.75       154\n",
      "           4       0.75      0.76      0.75       143\n",
      "           5       0.72      0.69      0.70       141\n",
      "           6       0.90      0.86      0.88       143\n",
      "           7       0.95      0.80      0.87       158\n",
      "           8       0.79      0.72      0.75       132\n",
      "           9       0.76      0.80      0.78       158\n",
      "\n",
      "    accuracy                           0.80      1500\n",
      "   macro avg       0.81      0.80      0.80      1500\n",
      "weighted avg       0.81      0.80      0.80      1500\n",
      "\n",
      "\n",
      "Confusion matrix implemented NCC:\n",
      "[[150   0   2   0   0   6   3   1   2   0]\n",
      " [  0 148   0   0   0   2   0   0   2   0]\n",
      " [  0  15 113   8   2   3   3   1   8   2]\n",
      " [  1   5   8 117   1   7   1   2   8   4]\n",
      " [  1   4   2   0 108   0   3   0   1  24]\n",
      " [  3   9   0  24   4  97   2   0   1   1]\n",
      " [  3   6   2   0   4   5 123   0   0   0]\n",
      " [  1  14   2   0   6   1   0 127   1   6]\n",
      " [  3   6   4   8   0  12   1   0  95   3]\n",
      " [  3   0   1   1  19   2   1   3   2 126]]\n"
     ]
    }
   ],
   "source": [
    "ncc = NearestCentroidClassifier()\n",
    "ncc.fit(train_features_mnist, train_labels_mnist)\n",
    "y_pred = ncc.predict(test_features_mnist)\n",
    "print(\"Classification report implemented NCC:\\n%s\\n\"\n",
    "  % (metrics.classification_report(test_labels_mnist, y_pred)))\n",
    "print(\"Confusion matrix implemented NCC:\\n%s\" % metrics.confusion_matrix(test_labels_mnist, y_pred))"
   ]
  },
  {
   "cell_type": "code",
   "execution_count": 15,
   "metadata": {},
   "outputs": [
    {
     "name": "stdout",
     "output_type": "stream",
     "text": [
      "Classification report implemented NBC:\n",
      "              precision    recall  f1-score   support\n",
      "\n",
      "           0       0.27      0.93      0.42       164\n",
      "           1       0.84      0.98      0.90       152\n",
      "           2       0.74      0.17      0.27       155\n",
      "           3       0.68      0.29      0.40       154\n",
      "           4       0.77      0.55      0.64       143\n",
      "           5       0.72      0.42      0.53       141\n",
      "           6       0.83      0.71      0.76       143\n",
      "           7       0.92      0.75      0.83       158\n",
      "           8       0.57      0.38      0.46       132\n",
      "           9       0.74      0.67      0.70       158\n",
      "\n",
      "    accuracy                           0.59      1500\n",
      "   macro avg       0.71      0.58      0.59      1500\n",
      "weighted avg       0.71      0.59      0.59      1500\n",
      "\n",
      "\n",
      "Confusion matrix implemented NBC:\n",
      "[[153   0   0   2   1   3   2   1   2   0]\n",
      " [  0 149   0   0   0   1   1   0   1   0]\n",
      " [ 94   3  26   4   3   2  12   0  10   1]\n",
      " [ 85   2   5  44   0   5   2   1   8   2]\n",
      " [ 28   2   0   0  79   3   2   2   4  23]\n",
      " [ 53   4   0  12   2  59   2   0   7   2]\n",
      " [ 29   3   1   0   2   4 101   0   3   0]\n",
      " [ 10  10   3   0   8   0   0 118   0   9]\n",
      " [ 73   4   0   2   0   2   0   0  50   1]\n",
      " [ 32   1   0   1   7   3   0   6   2 106]]\n"
     ]
    }
   ],
   "source": [
    "\n",
    "nbc1 = NaiveBayesianClassifier()\n",
    "nbc1.fit(train_features_mnist, train_labels_mnist)\n",
    "y_pred = nbc1.predict(test_features_mnist)\n",
    "print(\"Classification report implemented NBC:\\n%s\\n\"\n",
    "      % (metrics.classification_report(test_labels_mnist, y_pred)))\n",
    "print(\"Confusion matrix implemented NBC:\\n%s\" % metrics.confusion_matrix(test_labels_mnist, y_pred))\n"
   ]
  },
  {
   "cell_type": "code",
   "execution_count": 16,
   "metadata": {},
   "outputs": [
    {
     "name": "stdout",
     "output_type": "stream",
     "text": [
      "Classification report implemented GNB:\n",
      "              precision    recall  f1-score   support\n",
      "\n",
      "           0       0.98      1.00      0.99        45\n",
      "           1       0.91      0.75      0.82        52\n",
      "           2       0.98      0.85      0.91        53\n",
      "           3       0.97      0.70      0.82        54\n",
      "           4       0.96      0.92      0.94        48\n",
      "           5       0.98      0.86      0.92        57\n",
      "           6       0.95      0.97      0.96        60\n",
      "           7       0.84      0.98      0.90        53\n",
      "           8       0.75      0.97      0.84        61\n",
      "           9       0.75      0.89      0.82        57\n",
      "\n",
      "    accuracy                           0.89       540\n",
      "   macro avg       0.91      0.89      0.89       540\n",
      "weighted avg       0.90      0.89      0.89       540\n",
      "\n",
      "\n",
      "Confusion matrix implemented GNB:\n",
      "[[45  0  0  0  0  0  0  0  0  0]\n",
      " [ 0 39  0  0  1  1  1  1  4  5]\n",
      " [ 1  1 45  0  0  0  0  0  5  1]\n",
      " [ 0  0  0 38  0  0  0  1  6  9]\n",
      " [ 0  0  0  0 44  0  1  3  0  0]\n",
      " [ 0  0  0  1  0 49  1  2  3  1]\n",
      " [ 0  1  0  0  0  0 58  0  0  1]\n",
      " [ 0  0  0  0  1  0  0 52  0  0]\n",
      " [ 0  2  0  0  0  0  0  0 59  0]\n",
      " [ 0  0  1  0  0  0  0  3  2 51]]\n"
     ]
    }
   ],
   "source": [
    "gnb = GaussianNaiveBayesianClassifier()\n",
    "gnb.fit(train_features_mod, train_labels)\n",
    "y_pred = gnb.predict(test_features_mod)\n",
    "print(\"Classification report implemented GNB:\\n%s\\n\"\n",
    "      % (metrics.classification_report(test_labels, y_pred)))\n",
    "print(\"Confusion matrix implemented GNB:\\n%s\" % metrics.confusion_matrix(test_labels, y_pred))"
   ]
  }
 ],
 "metadata": {
  "kernelspec": {
   "display_name": "Python 3",
   "language": "python",
   "name": "python3"
  },
  "language_info": {
   "codemirror_mode": {
    "name": "ipython",
    "version": 3
   },
   "file_extension": ".py",
   "mimetype": "text/x-python",
   "name": "python",
   "nbconvert_exporter": "python",
   "pygments_lexer": "ipython3",
   "version": "3.7.4"
  }
 },
 "nbformat": 4,
 "nbformat_minor": 4
}
